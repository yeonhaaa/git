{
 "cells": [
  {
   "cell_type": "markdown",
   "metadata": {},
   "source": [
    "## 1. 124나라"
   ]
  },
  {
   "cell_type": "markdown",
   "metadata": {},
   "source": [
    "1,2,3 -> 1,2,4\n",
    "4,5,6 -> 11,12,14\n",
    "7,8,9 -> 21,22,24\n",
    "10,11,12 -> 41,42,44\n",
    "13,14,15... -> 111,112,114...\n",
    "1/3 -> 1 \n",
    "2/3 -> 2\n",
    "3/3 -> 0 -> 4\n",
    "4/3 -> 1,1\n",
    "5/3 -> 1,2\n",
    "6/3 -> 2,0 -> 1,4"
   ]
  },
  {
   "cell_type": "code",
   "execution_count": 16,
   "metadata": {},
   "outputs": [
    {
     "name": "stdout",
     "output_type": "stream",
     "text": [
      "12 44\n"
     ]
    }
   ],
   "source": [
    "def solution(n):\n",
    "    if n <= 3:\n",
    "        return '124'[n-1]\n",
    "    else:\n",
    "        n1,n2 = divmod(n-1, 3)\n",
    "    return solution(n1) + '124'[n2]\n",
    "\n",
    "n=12\n",
    "print(n,solution(n))\n",
    "\n",
    "\n"
   ]
  },
  {
   "cell_type": "code",
   "execution_count": 11,
   "metadata": {},
   "outputs": [
    {
     "name": "stdout",
     "output_type": "stream",
     "text": [
      "3 4\n"
     ]
    }
   ],
   "source": [
    "def solution(n):\n",
    "    if n<=3:\n",
    "        return '124'[n-1]\n",
    "    else:\n",
    "        q, r = divmod(n-1, 3) \n",
    "        return solution(q) + '124'[r]\n",
    "n=3\n",
    "\n",
    "print(n, solution(n))"
   ]
  },
  {
   "cell_type": "code",
   "execution_count": 14,
   "metadata": {},
   "outputs": [
    {
     "name": "stdout",
     "output_type": "stream",
     "text": [
      "(1, 9)\n"
     ]
    }
   ],
   "source": [
    "a=20\n",
    "b=11\n",
    "\n",
    "print(divmod(a,b))"
   ]
  },
  {
   "cell_type": "code",
   "execution_count": null,
   "metadata": {},
   "outputs": [],
   "source": []
  }
 ],
 "metadata": {
  "kernelspec": {
   "display_name": "pydatavenv",
   "language": "python",
   "name": "pydatavenv"
  },
  "language_info": {
   "codemirror_mode": {
    "name": "ipython",
    "version": 3
   },
   "file_extension": ".py",
   "mimetype": "text/x-python",
   "name": "python",
   "nbconvert_exporter": "python",
   "pygments_lexer": "ipython3",
   "version": "3.7.9"
  }
 },
 "nbformat": 4,
 "nbformat_minor": 4
}
