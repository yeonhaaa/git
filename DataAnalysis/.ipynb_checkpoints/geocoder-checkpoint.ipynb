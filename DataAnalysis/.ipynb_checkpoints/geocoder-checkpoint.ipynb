{
 "cells": [
  {
   "cell_type": "markdown",
   "metadata": {},
   "source": [
    "### geocoder 를 사용해서 위도, 경도로 추출\n",
    "1. 주소 -> 위도, 경도로 변환 (geocoder)\n",
    "2. 위도, 경도로 거리 계산 (haversine)\n",
    "3. csv 파일로 저장"
   ]
  },
  {
   "cell_type": "code",
   "execution_count": null,
   "metadata": {},
   "outputs": [],
   "source": [
    "# geocoder 패키지 설치 \n",
    "import sys\n",
    "!{sys.executable} -m pip install geocoder"
   ]
  },
  {
   "cell_type": "code",
   "execution_count": null,
   "metadata": {},
   "outputs": [],
   "source": [
    "# haversine 패키지 설치\n",
    "!{sys.executable} -m pip install haversine"
   ]
  },
  {
   "cell_type": "code",
   "execution_count": null,
   "metadata": {},
   "outputs": [],
   "source": [
    "import geocoder\n",
    "from openpyxl import load_workbook\n",
    "import time\n",
    "import pandas as pd\n",
    "import random"
   ]
  },
  {
   "cell_type": "code",
   "execution_count": null,
   "metadata": {},
   "outputs": [],
   "source": [
    "#데이터 불러오기\n",
    "\n",
    "data=pd.read_excel(\"../데이터.xlsx\")\n",
    "df=pd.DataFrame(data)\n",
    "df_address1=df[['출발지']]\n",
    "df_address2=df[['도착지']]\n",
    "df['출발지_위도']=''\n",
    "df['출발지_경도']=''\n",
    "df['도착지_위도']=''\n",
    "df['도착지_경도']=''\n",
    "df['배달거리(km)']=''\n",
    "display(df)"
   ]
  },
  {
   "cell_type": "code",
   "execution_count": null,
   "metadata": {},
   "outputs": [],
   "source": [
    "# 출발지 주소 -> 위도,경도\n",
    "\n",
    "for i in df_address1.index:\n",
    "\n",
    "        # geocoder 호출\n",
    "        g = geocoder.google(df_address1.loc[i], key)\n",
    "\n",
    "        # 위도, 경도 변환\n",
    "        geo = g.latlng\n",
    "\n",
    "        # 변환 확인\n",
    "        print(geo)\n",
    "\n",
    "        df['출발지_위도'][i]=geo[0]\n",
    "        df['출발지_경도'][i]=geo[1]\n",
    "        \n",
    "display(df)"
   ]
  },
  {
   "cell_type": "code",
   "execution_count": null,
   "metadata": {},
   "outputs": [],
   "source": [
    "# 출발지 주소 -> 위도,경도\n",
    "\n",
    "for i in df_address1.index:\n",
    "\n",
    "        # geocoder 호출\n",
    "        g = geocoder.google(df_address1.loc[i], key)\n",
    "\n",
    "        # 위도, 경도 변환\n",
    "        geo = g.latlng\n",
    "\n",
    "        # 확인\n",
    "        print(geo)\n",
    "\n",
    "        df['출발지_위도'][i]=geo[0]\n",
    "        df['출발지_경도'][i]=geo[1]\n",
    "        \n",
    "display(df)"
   ]
  },
  {
   "cell_type": "code",
   "execution_count": null,
   "metadata": {},
   "outputs": [],
   "source": [
    "# 도착지 주소 -> 위도,경도\n",
    "\n",
    "for i in df_address2.index:\n",
    "\n",
    "        # geocoder 호출\n",
    "        g = geocoder.google(df_address2.loc[i], key)\n",
    "\n",
    "        # 위도, 경도 변환\n",
    "        geo = g.latlng\n",
    "\n",
    "        # 확인\n",
    "        print(geo)\n",
    "\n",
    "        df['도착지_위도'][i]=geo[0]\n",
    "        df['도착지_경도'][i]=geo[1]\n",
    "        \n",
    "display(df)"
   ]
  },
  {
   "cell_type": "code",
   "execution_count": null,
   "metadata": {},
   "outputs": [],
   "source": [
    "# 배달거리 측정(km)\n",
    "\n",
    "from haversine import haversine\n",
    "\n",
    "for i in df.index :\n",
    "    \n",
    "    address1 = (df['출발지_위도'][i],df['출발지_경도'][i]) \n",
    "    address2 = (df['도착지_위도'][i],df['도착지_경도'][i])\n",
    "    distance = haversine(address1, address2, unit = 'km')\n",
    "    \n",
    "    df['배달거리(km)'][i] = distance\n"
   ]
  },
  {
   "cell_type": "code",
   "execution_count": null,
   "metadata": {},
   "outputs": [],
   "source": [
    "#display(df)"
   ]
  },
  {
   "cell_type": "code",
   "execution_count": null,
   "metadata": {},
   "outputs": [],
   "source": [
    "# 엑셀파일로 저장\n",
    "df.to_excel(\"../data/geocoder_위도경도배달거리.xlsx\")\n",
    "writer.save()"
   ]
  }
 ],
 "metadata": {
  "kernelspec": {
   "display_name": "pydatavenv",
   "language": "python",
   "name": "pydatavenv"
  },
  "language_info": {
   "codemirror_mode": {
    "name": "ipython",
    "version": 3
   },
   "file_extension": ".py",
   "mimetype": "text/x-python",
   "name": "python",
   "nbconvert_exporter": "python",
   "pygments_lexer": "ipython3",
   "version": "3.7.9"
  }
 },
 "nbformat": 4,
 "nbformat_minor": 4
}
