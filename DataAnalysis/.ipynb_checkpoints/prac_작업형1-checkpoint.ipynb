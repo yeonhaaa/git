{
 "cells": [
  {
   "cell_type": "markdown",
   "metadata": {},
   "source": [
    "이기적카페 실기 1유형 1주차 예상문제"
   ]
  },
  {
   "cell_type": "markdown",
   "metadata": {},
   "source": [
    "1. 여름철(6월,7월,8월) 이화동이 수영동보다 높은 기온을 가진 시간대는 몇개인가?\n"
   ]
  },
  {
   "cell_type": "code",
   "execution_count": 5,
   "metadata": {},
   "outputs": [
    {
     "data": {
      "text/html": [
       "<div>\n",
       "<style scoped>\n",
       "    .dataframe tbody tr th:only-of-type {\n",
       "        vertical-align: middle;\n",
       "    }\n",
       "\n",
       "    .dataframe tbody tr th {\n",
       "        vertical-align: top;\n",
       "    }\n",
       "\n",
       "    .dataframe thead th {\n",
       "        text-align: right;\n",
       "    }\n",
       "</style>\n",
       "<table border=\"1\" class=\"dataframe\">\n",
       "  <thead>\n",
       "    <tr style=\"text-align: right;\">\n",
       "      <th></th>\n",
       "      <th>time</th>\n",
       "      <th>이화동강수</th>\n",
       "      <th>이화동기온</th>\n",
       "      <th>수영동강수</th>\n",
       "      <th>수영동기온</th>\n",
       "    </tr>\n",
       "  </thead>\n",
       "  <tbody>\n",
       "    <tr>\n",
       "      <th>8779</th>\n",
       "      <td>2020-12-31 19:00:00</td>\n",
       "      <td>0.0</td>\n",
       "      <td>-9.5</td>\n",
       "      <td>0.0</td>\n",
       "      <td>-4.5</td>\n",
       "    </tr>\n",
       "    <tr>\n",
       "      <th>8780</th>\n",
       "      <td>2020-12-31 20:00:00</td>\n",
       "      <td>0.0</td>\n",
       "      <td>-9.5</td>\n",
       "      <td>0.0</td>\n",
       "      <td>-5.0</td>\n",
       "    </tr>\n",
       "    <tr>\n",
       "      <th>8781</th>\n",
       "      <td>2020-12-31 21:00:00</td>\n",
       "      <td>0.0</td>\n",
       "      <td>-9.3</td>\n",
       "      <td>0.0</td>\n",
       "      <td>-6.5</td>\n",
       "    </tr>\n",
       "    <tr>\n",
       "      <th>8782</th>\n",
       "      <td>2020-12-31 22:00:00</td>\n",
       "      <td>0.0</td>\n",
       "      <td>-9.2</td>\n",
       "      <td>0.0</td>\n",
       "      <td>-4.6</td>\n",
       "    </tr>\n",
       "    <tr>\n",
       "      <th>8783</th>\n",
       "      <td>2020-12-31 23:00:00</td>\n",
       "      <td>0.0</td>\n",
       "      <td>-7.8</td>\n",
       "      <td>0.0</td>\n",
       "      <td>-0.2</td>\n",
       "    </tr>\n",
       "  </tbody>\n",
       "</table>\n",
       "</div>"
      ],
      "text/plain": [
       "                     time  이화동강수  이화동기온  수영동강수  수영동기온\n",
       "8779  2020-12-31 19:00:00    0.0   -9.5    0.0   -4.5\n",
       "8780  2020-12-31 20:00:00    0.0   -9.5    0.0   -5.0\n",
       "8781  2020-12-31 21:00:00    0.0   -9.3    0.0   -6.5\n",
       "8782  2020-12-31 22:00:00    0.0   -9.2    0.0   -4.6\n",
       "8783  2020-12-31 23:00:00    0.0   -7.8    0.0   -0.2"
      ]
     },
     "execution_count": 5,
     "metadata": {},
     "output_type": "execute_result"
    }
   ],
   "source": [
    "import pandas as pd\n",
    "df = pd.read_csv(\"https://raw.githubusercontent.com/Datamanim/datarepo/main/weather/weather2.csv\")\n",
    "df.tail()"
   ]
  },
  {
   "cell_type": "code",
   "execution_count": 53,
   "metadata": {},
   "outputs": [
    {
     "name": "stdout",
     "output_type": "stream",
     "text": [
      "                    time  이화동강수      이화동기온  수영동강수      수영동기온\n",
      "3648 2020-06-01 00:00:00    0.0  21.100000    0.0  24.799999\n",
      "3649 2020-06-01 01:00:00    0.0  22.400000    0.0  23.500000\n",
      "3650 2020-06-01 02:00:00    0.0  23.100000    0.0  23.100000\n",
      "3651 2020-06-01 03:00:00    0.0  23.100000    0.0  25.400000\n",
      "3652 2020-06-01 04:00:00    0.0  23.799999    0.0  24.500000\n",
      "...                  ...    ...        ...    ...        ...\n",
      "5851 2020-08-31 19:00:00    0.0  24.299999    0.0  24.100000\n",
      "5852 2020-08-31 20:00:00    0.0  23.900000    0.0  24.200001\n",
      "5853 2020-08-31 21:00:00    0.0  24.000000    0.0  24.600000\n",
      "5854 2020-08-31 22:00:00    0.0  24.600000    0.0  24.900000\n",
      "5855 2020-08-31 23:00:00    0.0  25.000000    0.0  26.900000\n",
      "\n",
      "[2208 rows x 5 columns]\n"
     ]
    }
   ],
   "source": [
    "# 6,7,8월 데이터 추출 \n",
    "df.isnull().sum()\n",
    "df['time'] = pd.to_datetime(df['time'])\n",
    "summer = df[df['time'].dt.month.isin([6,7,8])]"
   ]
  },
  {
   "cell_type": "code",
   "execution_count": 64,
   "metadata": {},
   "outputs": [
    {
     "name": "stdout",
     "output_type": "stream",
     "text": [
      "1415\n"
     ]
    }
   ],
   "source": [
    "# 이화동기온 > 수영동기온 행 개수\n",
    "answer = summer[summer['이화동기온'] > summer['수영동기온']]\n",
    "print(len(answer))"
   ]
  },
  {
   "cell_type": "markdown",
   "metadata": {},
   "source": [
    "2. 이화동과 수영동의 최대강수량의 시간대를 각각 구하여라\n"
   ]
  },
  {
   "cell_type": "code",
   "execution_count": 93,
   "metadata": {},
   "outputs": [
    {
     "name": "stdout",
     "output_type": "stream",
     "text": [
      "['2020-09-30T09:00:00.000000000']\n",
      "['2020-07-23T12:00:00.000000000']\n"
     ]
    }
   ],
   "source": [
    "answer1= df[df['이화동강수']==df['이화동강수'].max()]['time'].values\n",
    "answer2= df.loc[df['수영동강수']==df['수영동강수'].max()].time.values\n",
    "print(answer1)\n",
    "print(answer2)"
   ]
  },
  {
   "cell_type": "code",
   "execution_count": null,
   "metadata": {},
   "outputs": [],
   "source": []
  },
  {
   "cell_type": "markdown",
   "metadata": {},
   "source": []
  }
 ],
 "metadata": {
  "kernelspec": {
   "display_name": "pydatavenv",
   "language": "python",
   "name": "pydatavenv"
  },
  "language_info": {
   "codemirror_mode": {
    "name": "ipython",
    "version": 3
   },
   "file_extension": ".py",
   "mimetype": "text/x-python",
   "name": "python",
   "nbconvert_exporter": "python",
   "pygments_lexer": "ipython3",
   "version": "3.7.9"
  }
 },
 "nbformat": 4,
 "nbformat_minor": 4
}
