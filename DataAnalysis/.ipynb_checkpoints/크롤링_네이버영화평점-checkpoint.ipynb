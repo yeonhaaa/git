{
 "cells": [
  {
   "cell_type": "markdown",
   "metadata": {},
   "source": [
    "#### 네이버 영화 평점 크롤링"
   ]
  },
  {
   "cell_type": "code",
   "execution_count": 1,
   "metadata": {},
   "outputs": [],
   "source": [
    "import requests\n",
    "from bs4 import BeautifulSoup as bs"
   ]
  },
  {
   "cell_type": "code",
   "execution_count": 144,
   "metadata": {},
   "outputs": [],
   "source": [
    "url = 'https://movie.naver.com/movie/sdb/rank/rmovie.nhn?sel=cur&date=20210602'"
   ]
  },
  {
   "cell_type": "markdown",
   "metadata": {},
   "source": [
    "##### 1. 네이버 영화 평점 순위의 랭킹사이트의 데이터를 requests를 이용하여 가져오고 parsing 하여 soup 변수에 저장하라\n",
    "##### 2. 메타정보에 관한 모든 파싱값을 meta 변수에 저장하라\n",
    "##### 3. 랭킹테이블의 모든파싱데이터를 가져와서 lstRanking 변수에 저장하라 class=list_ranking\n",
    "##### 4. lstRanking에서 모든 영화의 순위, 이름, 평점, 영화정보링크를 가져와서 데이터프레임을 만들고 movieTable 변수에 저장하라\n",
    "##### 5. movieTable에 date 컬럼을 추가하여 2021-05-03 을 입력하라\n",
    "##### 6. 21년 4월 1일 부터 4월 30일까지 일자별 리스트를 생성하여 하나의 데이터 프레임(변수명 total)에 저장하라. 날짜는 date컬럼에 생성한다.\n",
    "##### 7. total 데이터에서 일자별 3위 rank의 데이터를 rankThree 변수에 저장하라\n",
    "##### 8. 해당기간동안 랭킹 1위 영화들의 그 횟수를 구하여라\n",
    "##### 9. 데이터를 재구성하여 일자별 랭킹의 영화 제목을 출력하라\n"
   ]
  },
  {
   "cell_type": "code",
   "execution_count": 141,
   "metadata": {},
   "outputs": [],
   "source": [
    "# 1\n",
    "data = requests.get(url)\n",
    "soup = bs(data.text)\n",
    "#print(soup)\n"
   ]
  },
  {
   "cell_type": "code",
   "execution_count": 142,
   "metadata": {},
   "outputs": [],
   "source": [
    "# 2\n",
    "meta = soup.find_all('meta')\n",
    "#meta"
   ]
  },
  {
   "cell_type": "code",
   "execution_count": 143,
   "metadata": {},
   "outputs": [],
   "source": [
    "# 3\n",
    "IstRanking = soup.find(\"table\",{\"class\":\"list_ranking\"})\n",
    "#IstRanking"
   ]
  },
  {
   "cell_type": "code",
   "execution_count": 200,
   "metadata": {},
   "outputs": [],
   "source": []
  },
  {
   "cell_type": "code",
   "execution_count": 208,
   "metadata": {},
   "outputs": [],
   "source": [
    "# 함수로 만들기 \n",
    "def crawl(url) :\n",
    "    data = requests.get(url)\n",
    "    soup = bs(data.text)\n",
    "    return soup\n",
    "\n",
    "def parse(table):\n",
    "    # findAll 사용해서 list 로 만든 후 for 문\n",
    "    trTag = IstRanking.findAll('tr')\n",
    "    \n",
    "    # for문 사용해서 영화 제목, 순위, 평점 한번에 가져오기\n",
    "    for li in trTag[:13]:\n",
    "        try:\n",
    "            #title 제목\n",
    "            info = li.find(\"div\", {\"class\": 'tit5'})\n",
    "            aTag = info.find('a')\n",
    "            title = aTag['title']\n",
    "            \n",
    "            #rank 순위\n",
    "            acClass = li.find('td',{'class':'ac'})\n",
    "            ranking = acClass.find('img')['alt']\n",
    "            \n",
    "            #point 평점\n",
    "            point = li.find('td',{'class':'point'})\n",
    "            point = point.text\n",
    "           \n",
    "            print(ranking, title, point)\n",
    "            \n",
    "            #예외처리\n",
    "        except Exception as e:\n",
    "            print(\"--------------\")\n",
    "\n",
    "    return {'rank':ranking, 'title':title, 'point':point}\n",
    "    "
   ]
  },
  {
   "cell_type": "code",
   "execution_count": 233,
   "metadata": {},
   "outputs": [
    {
     "name": "stdout",
     "output_type": "stream",
     "text": [
      "--------------\n",
      "--------------\n",
      "01 아일라 9.50\n",
      "02 크루엘라 9.47\n",
      "03 언플랜드 9.33\n",
      "04 부활: 그 증거 9.30\n",
      "05 극장판 귀멸의 칼날: 무한열차편 9.29\n",
      "06 바람과 함께 사라지다 9.24\n",
      "07 해피 투게더 9.19\n",
      "08 크루즈 패밀리: 뉴 에이지 9.07\n",
      "09 빅 피쉬 9.02\n",
      "010 명탐정 코난: 비색의 탄환 8.94\n",
      "--------------\n"
     ]
    },
    {
     "name": "stderr",
     "output_type": "stream",
     "text": [
      "/Users/yeona/opt/anaconda3/envs/pydatavenv/lib/python3.7/site-packages/bs4/__init__.py:181: UserWarning: No parser was explicitly specified, so I'm using the best available HTML parser for this system (\"lxml\"). This usually isn't a problem, but if you run this code on another system, or in a different virtual environment, it may use a different parser and behave differently.\n",
      "\n",
      "The code that caused this warning is on line 193 of the file /Users/yeona/opt/anaconda3/envs/pydatavenv/lib/python3.7/runpy.py. To get rid of this warning, change code that looks like this:\n",
      "\n",
      " BeautifulSoup(YOUR_MARKUP})\n",
      "\n",
      "to this:\n",
      "\n",
      " BeautifulSoup(YOUR_MARKUP, \"lxml\")\n",
      "\n",
      "  markup_type=markup_type))\n"
     ]
    }
   ],
   "source": [
    "url = 'https://movie.naver.com/movie/sdb/rank/rmovie.nhn?sel=cur&date=20210602'\n",
    "table = crawl(url)\n",
    "movieInfo = parse(table)\n"
   ]
  },
  {
   "cell_type": "code",
   "execution_count": 234,
   "metadata": {},
   "outputs": [
    {
     "ename": "TypeError",
     "evalue": "'type' object is not subscriptable",
     "output_type": "error",
     "traceback": [
      "\u001b[0;31m---------------------------------------------------------------------------\u001b[0m",
      "\u001b[0;31mTypeError\u001b[0m                                 Traceback (most recent call last)",
      "\u001b[0;32m<ipython-input-234-10b237f63f8c>\u001b[0m in \u001b[0;36m<module>\u001b[0;34m\u001b[0m\n\u001b[1;32m      1\u001b[0m \u001b[0;32mimport\u001b[0m \u001b[0mpandas\u001b[0m \u001b[0;32mas\u001b[0m \u001b[0mpd\u001b[0m\u001b[0;34m\u001b[0m\u001b[0;34m\u001b[0m\u001b[0m\n\u001b[0;32m----> 2\u001b[0;31m \u001b[0mdf\u001b[0m \u001b[0;34m=\u001b[0m \u001b[0mpd\u001b[0m\u001b[0;34m.\u001b[0m\u001b[0mDataFrame\u001b[0m\u001b[0;34m(\u001b[0m\u001b[0mdata\u001b[0m \u001b[0;34m=\u001b[0m \u001b[0mmovieInfo\u001b[0m\u001b[0;34m,\u001b[0m\u001b[0mcolumns\u001b[0m \u001b[0;34m=\u001b[0m \u001b[0;34m[\u001b[0m\u001b[0;34m\"rank\"\u001b[0m\u001b[0;34m]\u001b[0m\u001b[0;34m,\u001b[0m\u001b[0mindex\u001b[0m \u001b[0;34m=\u001b[0m \u001b[0mrange\u001b[0m\u001b[0;34m[\u001b[0m\u001b[0;36m2\u001b[0m\u001b[0;34m]\u001b[0m\u001b[0;34m)\u001b[0m\u001b[0;34m\u001b[0m\u001b[0;34m\u001b[0m\u001b[0m\n\u001b[0m",
      "\u001b[0;31mTypeError\u001b[0m: 'type' object is not subscriptable"
     ]
    }
   ],
   "source": [
    "import pandas as pd\n",
    "df = pd.DataFrame(data = movieInfo,columns = [\"rank\"],index = range[2])"
   ]
  },
  {
   "cell_type": "code",
   "execution_count": 232,
   "metadata": {},
   "outputs": [
    {
     "data": {
      "text/html": [
       "<div>\n",
       "<style scoped>\n",
       "    .dataframe tbody tr th:only-of-type {\n",
       "        vertical-align: middle;\n",
       "    }\n",
       "\n",
       "    .dataframe tbody tr th {\n",
       "        vertical-align: top;\n",
       "    }\n",
       "\n",
       "    .dataframe thead th {\n",
       "        text-align: right;\n",
       "    }\n",
       "</style>\n",
       "<table border=\"1\" class=\"dataframe\">\n",
       "  <thead>\n",
       "    <tr style=\"text-align: right;\">\n",
       "      <th></th>\n",
       "      <th>0</th>\n",
       "    </tr>\n",
       "  </thead>\n",
       "  <tbody>\n",
       "    <tr>\n",
       "      <th>0</th>\n",
       "      <td>[\\n, [순위], \\n, [영화명], \\n, [평점], \\n, [변동폭], \\n]</td>\n",
       "    </tr>\n",
       "    <tr>\n",
       "      <th>1</th>\n",
       "      <td>[[]]</td>\n",
       "    </tr>\n",
       "    <tr>\n",
       "      <th>2</th>\n",
       "      <td>[\\n, [[]], \\n, [\\n, [\\n, &lt;a href=\"/movie/bi/mi...</td>\n",
       "    </tr>\n",
       "    <tr>\n",
       "      <th>3</th>\n",
       "      <td>[\\n, [[]], \\n, [\\n, [\\n, &lt;a href=\"/movie/bi/mi...</td>\n",
       "    </tr>\n",
       "    <tr>\n",
       "      <th>4</th>\n",
       "      <td>[\\n, [[]], \\n, [\\n, [\\n, &lt;a href=\"/movie/bi/mi...</td>\n",
       "    </tr>\n",
       "    <tr>\n",
       "      <th>5</th>\n",
       "      <td>[\\n, [[]], \\n, [\\n, [\\n, &lt;a href=\"/movie/bi/mi...</td>\n",
       "    </tr>\n",
       "    <tr>\n",
       "      <th>6</th>\n",
       "      <td>[\\n, [[]], \\n, [\\n, [\\n, &lt;a href=\"/movie/bi/mi...</td>\n",
       "    </tr>\n",
       "    <tr>\n",
       "      <th>7</th>\n",
       "      <td>[\\n, [[]], \\n, [\\n, [\\n, &lt;a href=\"/movie/bi/mi...</td>\n",
       "    </tr>\n",
       "    <tr>\n",
       "      <th>8</th>\n",
       "      <td>[\\n, [[]], \\n, [\\n, [\\n, &lt;a href=\"/movie/bi/mi...</td>\n",
       "    </tr>\n",
       "    <tr>\n",
       "      <th>9</th>\n",
       "      <td>[\\n, [[]], \\n, [\\n, [\\n, &lt;a href=\"/movie/bi/mi...</td>\n",
       "    </tr>\n",
       "    <tr>\n",
       "      <th>10</th>\n",
       "      <td>[\\n, [[]], \\n, [\\n, [\\n, &lt;a href=\"/movie/bi/mi...</td>\n",
       "    </tr>\n",
       "    <tr>\n",
       "      <th>11</th>\n",
       "      <td>[\\n, [[]], \\n, [\\n, [\\n, &lt;a href=\"/movie/bi/mi...</td>\n",
       "    </tr>\n",
       "    <tr>\n",
       "      <th>12</th>\n",
       "      <td>[[]]</td>\n",
       "    </tr>\n",
       "    <tr>\n",
       "      <th>13</th>\n",
       "      <td>[\\n, [[]], \\n, [\\n, [\\n, &lt;a href=\"/movie/bi/mi...</td>\n",
       "    </tr>\n",
       "    <tr>\n",
       "      <th>14</th>\n",
       "      <td>[\\n, [[]], \\n, [\\n, [\\n, &lt;a href=\"/movie/bi/mi...</td>\n",
       "    </tr>\n",
       "    <tr>\n",
       "      <th>15</th>\n",
       "      <td>[\\n, [[]], \\n, [\\n, [\\n, &lt;a href=\"/movie/bi/mi...</td>\n",
       "    </tr>\n",
       "    <tr>\n",
       "      <th>16</th>\n",
       "      <td>[\\n, [[]], \\n, [\\n, [\\n, &lt;a href=\"/movie/bi/mi...</td>\n",
       "    </tr>\n",
       "    <tr>\n",
       "      <th>17</th>\n",
       "      <td>[\\n, [[]], \\n, [\\n, [\\n, &lt;a href=\"/movie/bi/mi...</td>\n",
       "    </tr>\n",
       "    <tr>\n",
       "      <th>18</th>\n",
       "      <td>[\\n, [[]], \\n, [\\n, [\\n, &lt;a href=\"/movie/bi/mi...</td>\n",
       "    </tr>\n",
       "    <tr>\n",
       "      <th>19</th>\n",
       "      <td>[\\n, [[]], \\n, [\\n, [\\n, &lt;a href=\"/movie/bi/mi...</td>\n",
       "    </tr>\n",
       "    <tr>\n",
       "      <th>20</th>\n",
       "      <td>[\\n, [[]], \\n, [\\n, [\\n, &lt;a href=\"/movie/bi/mi...</td>\n",
       "    </tr>\n",
       "    <tr>\n",
       "      <th>21</th>\n",
       "      <td>[\\n, [[]], \\n, [\\n, [\\n, &lt;a href=\"/movie/bi/mi...</td>\n",
       "    </tr>\n",
       "    <tr>\n",
       "      <th>22</th>\n",
       "      <td>[\\n, [[]], \\n, [\\n, [\\n, &lt;a href=\"/movie/bi/mi...</td>\n",
       "    </tr>\n",
       "    <tr>\n",
       "      <th>23</th>\n",
       "      <td>[[]]</td>\n",
       "    </tr>\n",
       "    <tr>\n",
       "      <th>24</th>\n",
       "      <td>[\\n, [[]], \\n, [\\n, [\\n, &lt;a href=\"/movie/bi/mi...</td>\n",
       "    </tr>\n",
       "    <tr>\n",
       "      <th>25</th>\n",
       "      <td>[\\n, [[]], \\n, [\\n, [\\n, &lt;a href=\"/movie/bi/mi...</td>\n",
       "    </tr>\n",
       "    <tr>\n",
       "      <th>26</th>\n",
       "      <td>[\\n, [[]], \\n, [\\n, [\\n, &lt;a href=\"/movie/bi/mi...</td>\n",
       "    </tr>\n",
       "    <tr>\n",
       "      <th>27</th>\n",
       "      <td>[\\n, [[]], \\n, [\\n, [\\n, &lt;a href=\"/movie/bi/mi...</td>\n",
       "    </tr>\n",
       "    <tr>\n",
       "      <th>28</th>\n",
       "      <td>[\\n, [[]], \\n, [\\n, [\\n, &lt;a href=\"/movie/bi/mi...</td>\n",
       "    </tr>\n",
       "    <tr>\n",
       "      <th>29</th>\n",
       "      <td>[\\n, [[]], \\n, [\\n, [\\n, &lt;a href=\"/movie/bi/mi...</td>\n",
       "    </tr>\n",
       "    <tr>\n",
       "      <th>30</th>\n",
       "      <td>[\\n, [[]], \\n, [\\n, [\\n, &lt;a href=\"/movie/bi/mi...</td>\n",
       "    </tr>\n",
       "    <tr>\n",
       "      <th>31</th>\n",
       "      <td>[\\n, [[]], \\n, [\\n, [\\n, &lt;a href=\"/movie/bi/mi...</td>\n",
       "    </tr>\n",
       "    <tr>\n",
       "      <th>32</th>\n",
       "      <td>[\\n, [[]], \\n, [\\n, [\\n, &lt;a href=\"/movie/bi/mi...</td>\n",
       "    </tr>\n",
       "    <tr>\n",
       "      <th>33</th>\n",
       "      <td>[\\n, [[]], \\n, [\\n, [\\n, &lt;a href=\"/movie/bi/mi...</td>\n",
       "    </tr>\n",
       "    <tr>\n",
       "      <th>34</th>\n",
       "      <td>[[]]</td>\n",
       "    </tr>\n",
       "    <tr>\n",
       "      <th>35</th>\n",
       "      <td>[\\n, [[]], \\n, [\\n, [\\n, &lt;a href=\"/movie/bi/mi...</td>\n",
       "    </tr>\n",
       "    <tr>\n",
       "      <th>36</th>\n",
       "      <td>[\\n, [[]], \\n, [\\n, [\\n, &lt;a href=\"/movie/bi/mi...</td>\n",
       "    </tr>\n",
       "    <tr>\n",
       "      <th>37</th>\n",
       "      <td>[\\n, [[]], \\n, [\\n, [\\n, &lt;a href=\"/movie/bi/mi...</td>\n",
       "    </tr>\n",
       "    <tr>\n",
       "      <th>38</th>\n",
       "      <td>[\\n, [[]], \\n, [\\n, [\\n, &lt;a href=\"/movie/bi/mi...</td>\n",
       "    </tr>\n",
       "    <tr>\n",
       "      <th>39</th>\n",
       "      <td>[\\n, [[]], \\n, [\\n, [\\n, &lt;a href=\"/movie/bi/mi...</td>\n",
       "    </tr>\n",
       "    <tr>\n",
       "      <th>40</th>\n",
       "      <td>[\\n, [[]], \\n, [\\n, [\\n, &lt;a href=\"/movie/bi/mi...</td>\n",
       "    </tr>\n",
       "    <tr>\n",
       "      <th>41</th>\n",
       "      <td>[\\n, [[]], \\n, [\\n, [\\n, &lt;a href=\"/movie/bi/mi...</td>\n",
       "    </tr>\n",
       "    <tr>\n",
       "      <th>42</th>\n",
       "      <td>[\\n, [[]], \\n, [\\n, [\\n, &lt;a href=\"/movie/bi/mi...</td>\n",
       "    </tr>\n",
       "    <tr>\n",
       "      <th>43</th>\n",
       "      <td>[\\n, [[]], \\n, [\\n, [\\n, &lt;a href=\"/movie/bi/mi...</td>\n",
       "    </tr>\n",
       "    <tr>\n",
       "      <th>44</th>\n",
       "      <td>[\\n, [[]], \\n, [\\n, [\\n, &lt;a href=\"/movie/bi/mi...</td>\n",
       "    </tr>\n",
       "    <tr>\n",
       "      <th>45</th>\n",
       "      <td>[[]]</td>\n",
       "    </tr>\n",
       "    <tr>\n",
       "      <th>46</th>\n",
       "      <td>[\\n, [[]], \\n, [\\n, [\\n, &lt;a href=\"/movie/bi/mi...</td>\n",
       "    </tr>\n",
       "    <tr>\n",
       "      <th>47</th>\n",
       "      <td>[\\n, [[]], \\n, [\\n, [\\n, &lt;a href=\"/movie/bi/mi...</td>\n",
       "    </tr>\n",
       "    <tr>\n",
       "      <th>48</th>\n",
       "      <td>[\\n, [[]], \\n, [\\n, [\\n, &lt;a href=\"/movie/bi/mi...</td>\n",
       "    </tr>\n",
       "    <tr>\n",
       "      <th>49</th>\n",
       "      <td>[\\n, [[]], \\n, [\\n, [\\n, &lt;a href=\"/movie/bi/mi...</td>\n",
       "    </tr>\n",
       "    <tr>\n",
       "      <th>50</th>\n",
       "      <td>[\\n, [[]], \\n, [\\n, [\\n, &lt;a href=\"/movie/bi/mi...</td>\n",
       "    </tr>\n",
       "    <tr>\n",
       "      <th>51</th>\n",
       "      <td>[[]]</td>\n",
       "    </tr>\n",
       "  </tbody>\n",
       "</table>\n",
       "</div>"
      ],
      "text/plain": [
       "                                                    0\n",
       "0      [\\n, [순위], \\n, [영화명], \\n, [평점], \\n, [변동폭], \\n]\n",
       "1                                                [[]]\n",
       "2   [\\n, [[]], \\n, [\\n, [\\n, <a href=\"/movie/bi/mi...\n",
       "3   [\\n, [[]], \\n, [\\n, [\\n, <a href=\"/movie/bi/mi...\n",
       "4   [\\n, [[]], \\n, [\\n, [\\n, <a href=\"/movie/bi/mi...\n",
       "5   [\\n, [[]], \\n, [\\n, [\\n, <a href=\"/movie/bi/mi...\n",
       "6   [\\n, [[]], \\n, [\\n, [\\n, <a href=\"/movie/bi/mi...\n",
       "7   [\\n, [[]], \\n, [\\n, [\\n, <a href=\"/movie/bi/mi...\n",
       "8   [\\n, [[]], \\n, [\\n, [\\n, <a href=\"/movie/bi/mi...\n",
       "9   [\\n, [[]], \\n, [\\n, [\\n, <a href=\"/movie/bi/mi...\n",
       "10  [\\n, [[]], \\n, [\\n, [\\n, <a href=\"/movie/bi/mi...\n",
       "11  [\\n, [[]], \\n, [\\n, [\\n, <a href=\"/movie/bi/mi...\n",
       "12                                               [[]]\n",
       "13  [\\n, [[]], \\n, [\\n, [\\n, <a href=\"/movie/bi/mi...\n",
       "14  [\\n, [[]], \\n, [\\n, [\\n, <a href=\"/movie/bi/mi...\n",
       "15  [\\n, [[]], \\n, [\\n, [\\n, <a href=\"/movie/bi/mi...\n",
       "16  [\\n, [[]], \\n, [\\n, [\\n, <a href=\"/movie/bi/mi...\n",
       "17  [\\n, [[]], \\n, [\\n, [\\n, <a href=\"/movie/bi/mi...\n",
       "18  [\\n, [[]], \\n, [\\n, [\\n, <a href=\"/movie/bi/mi...\n",
       "19  [\\n, [[]], \\n, [\\n, [\\n, <a href=\"/movie/bi/mi...\n",
       "20  [\\n, [[]], \\n, [\\n, [\\n, <a href=\"/movie/bi/mi...\n",
       "21  [\\n, [[]], \\n, [\\n, [\\n, <a href=\"/movie/bi/mi...\n",
       "22  [\\n, [[]], \\n, [\\n, [\\n, <a href=\"/movie/bi/mi...\n",
       "23                                               [[]]\n",
       "24  [\\n, [[]], \\n, [\\n, [\\n, <a href=\"/movie/bi/mi...\n",
       "25  [\\n, [[]], \\n, [\\n, [\\n, <a href=\"/movie/bi/mi...\n",
       "26  [\\n, [[]], \\n, [\\n, [\\n, <a href=\"/movie/bi/mi...\n",
       "27  [\\n, [[]], \\n, [\\n, [\\n, <a href=\"/movie/bi/mi...\n",
       "28  [\\n, [[]], \\n, [\\n, [\\n, <a href=\"/movie/bi/mi...\n",
       "29  [\\n, [[]], \\n, [\\n, [\\n, <a href=\"/movie/bi/mi...\n",
       "30  [\\n, [[]], \\n, [\\n, [\\n, <a href=\"/movie/bi/mi...\n",
       "31  [\\n, [[]], \\n, [\\n, [\\n, <a href=\"/movie/bi/mi...\n",
       "32  [\\n, [[]], \\n, [\\n, [\\n, <a href=\"/movie/bi/mi...\n",
       "33  [\\n, [[]], \\n, [\\n, [\\n, <a href=\"/movie/bi/mi...\n",
       "34                                               [[]]\n",
       "35  [\\n, [[]], \\n, [\\n, [\\n, <a href=\"/movie/bi/mi...\n",
       "36  [\\n, [[]], \\n, [\\n, [\\n, <a href=\"/movie/bi/mi...\n",
       "37  [\\n, [[]], \\n, [\\n, [\\n, <a href=\"/movie/bi/mi...\n",
       "38  [\\n, [[]], \\n, [\\n, [\\n, <a href=\"/movie/bi/mi...\n",
       "39  [\\n, [[]], \\n, [\\n, [\\n, <a href=\"/movie/bi/mi...\n",
       "40  [\\n, [[]], \\n, [\\n, [\\n, <a href=\"/movie/bi/mi...\n",
       "41  [\\n, [[]], \\n, [\\n, [\\n, <a href=\"/movie/bi/mi...\n",
       "42  [\\n, [[]], \\n, [\\n, [\\n, <a href=\"/movie/bi/mi...\n",
       "43  [\\n, [[]], \\n, [\\n, [\\n, <a href=\"/movie/bi/mi...\n",
       "44  [\\n, [[]], \\n, [\\n, [\\n, <a href=\"/movie/bi/mi...\n",
       "45                                               [[]]\n",
       "46  [\\n, [[]], \\n, [\\n, [\\n, <a href=\"/movie/bi/mi...\n",
       "47  [\\n, [[]], \\n, [\\n, [\\n, <a href=\"/movie/bi/mi...\n",
       "48  [\\n, [[]], \\n, [\\n, [\\n, <a href=\"/movie/bi/mi...\n",
       "49  [\\n, [[]], \\n, [\\n, [\\n, <a href=\"/movie/bi/mi...\n",
       "50  [\\n, [[]], \\n, [\\n, [\\n, <a href=\"/movie/bi/mi...\n",
       "51                                               [[]]"
      ]
     },
     "execution_count": 232,
     "metadata": {},
     "output_type": "execute_result"
    }
   ],
   "source": [
    "df"
   ]
  },
  {
   "cell_type": "code",
   "execution_count": 162,
   "metadata": {},
   "outputs": [],
   "source": [
    "# findAll 사용해서 list 로 만든 후 for 문\n",
    "trTag = IstRanking.findAll('tr')"
   ]
  },
  {
   "cell_type": "code",
   "execution_count": 187,
   "metadata": {},
   "outputs": [
    {
     "name": "stdout",
     "output_type": "stream",
     "text": [
      "--------------\n",
      "--------------\n",
      "01 아일라 9.50\n",
      "02 크루엘라 9.47\n",
      "03 언플랜드 9.33\n",
      "04 부활: 그 증거 9.30\n",
      "05 극장판 귀멸의 칼날: 무한열차편 9.29\n",
      "06 바람과 함께 사라지다 9.24\n",
      "07 해피 투게더 9.19\n",
      "08 크루즈 패밀리: 뉴 에이지 9.07\n",
      "09 빅 피쉬 9.02\n",
      "010 명탐정 코난: 비색의 탄환 8.94\n",
      "--------------\n",
      "11 러브 액츄얼리 8.93\n",
      "12 중경삼림 8.93\n"
     ]
    },
    {
     "ename": "SyntaxError",
     "evalue": "'return' outside function (<ipython-input-187-55f5342c3ea2>, line 21)",
     "output_type": "error",
     "traceback": [
      "\u001b[0;36m  File \u001b[0;32m\"<ipython-input-187-55f5342c3ea2>\"\u001b[0;36m, line \u001b[0;32m21\u001b[0m\n\u001b[0;31m    return {'rank':ranking, 'title':title, 'point':point}\u001b[0m\n\u001b[0m                                                         ^\u001b[0m\n\u001b[0;31mSyntaxError\u001b[0m\u001b[0;31m:\u001b[0m 'return' outside function\n"
     ]
    }
   ],
   "source": [
    "# for문 사용해서 영화 제목, 순위, 평점 한번에 가져오기\n",
    "for li in trTag[:15]:\n",
    "        try:\n",
    "            #title 제목\n",
    "            info = li.find(\"div\", {\"class\": 'tit5'})\n",
    "            aTag = info.find('a')\n",
    "            title = aTag['title']\n",
    "            \n",
    "            #rank 순위\n",
    "            acClass = li.find('td',{'class':'ac'})\n",
    "            ranking = acClass.find('img')['alt']\n",
    "            \n",
    "            #point 평점\n",
    "            point = li.find('td',{'class':'point'})\n",
    "            point = point.text\n",
    "           \n",
    "            print(ranking, title, point)\n",
    "        except Exception as e:\n",
    "            print(\"--------------\")\n",
    "\n",
    "return {'rank':ranking, 'title':title, 'point':point}"
   ]
  },
  {
   "cell_type": "code",
   "execution_count": null,
   "metadata": {},
   "outputs": [],
   "source": []
  },
  {
   "cell_type": "code",
   "execution_count": 18,
   "metadata": {},
   "outputs": [],
   "source": [
    "title = div.find('a')['title']\n",
    "point = IstRanking.find('td',{'class':'point'})\n",
    "acClass = IstRanking.find('td',{'class':'ac'})\n",
    "ranking = acClass.find('img')['alt']"
   ]
  },
  {
   "cell_type": "code",
   "execution_count": 22,
   "metadata": {},
   "outputs": [
    {
     "name": "stdout",
     "output_type": "stream",
     "text": [
      "01 아일라 9.50\n"
     ]
    }
   ],
   "source": [
    "print(ranking, title, point.text)"
   ]
  },
  {
   "cell_type": "code",
   "execution_count": null,
   "metadata": {},
   "outputs": [],
   "source": []
  },
  {
   "cell_type": "code",
   "execution_count": 62,
   "metadata": {},
   "outputs": [],
   "source": [
    "# 함수로 만들기 \n",
    "\n",
    "def crawl(url) :\n",
    "    data = requests.get(url)\n",
    "    soup = bs(data.text)\n",
    "    return soup\n",
    "\n",
    "def movieInfo(table) :\n",
    "    meta = soup.find_all('meta')\n",
    "    IstRanking = soup.find(\"table\",{\"class\":\"list_ranking\"})\n",
    "    div = IstRanking.find('div',{'class':'tit5'})\n",
    "    title = div.find('a')['title']\n",
    "    point = IstRanking.find('td',{'class':'point'})\n",
    "    acClass = IstRanking.find('td',{'class':'ac'})\n",
    "    ranking = acClass.find('img')['alt']\n",
    "    return print(ranking, title, point.text)"
   ]
  },
  {
   "cell_type": "code",
   "execution_count": 63,
   "metadata": {},
   "outputs": [
    {
     "name": "stdout",
     "output_type": "stream",
     "text": [
      "01 아일라 9.50\n"
     ]
    }
   ],
   "source": [
    "url = 'https://movie.naver.com/movie/sdb/rank/rmovie.nhn?sel=cur&date=20210602'\n",
    "table = crawl(url)\n",
    "title = movieInfo(table)"
   ]
  },
  {
   "cell_type": "code",
   "execution_count": 59,
   "metadata": {},
   "outputs": [
    {
     "name": "stdout",
     "output_type": "stream",
     "text": [
      "01 아일라 9.50\n"
     ]
    }
   ],
   "source": [
    "title = parse(pageString)"
   ]
  },
  {
   "cell_type": "code",
   "execution_count": null,
   "metadata": {},
   "outputs": [],
   "source": []
  }
 ],
 "metadata": {
  "kernelspec": {
   "display_name": "pydatavenv",
   "language": "python",
   "name": "pydatavenv"
  },
  "language_info": {
   "codemirror_mode": {
    "name": "ipython",
    "version": 3
   },
   "file_extension": ".py",
   "mimetype": "text/x-python",
   "name": "python",
   "nbconvert_exporter": "python",
   "pygments_lexer": "ipython3",
   "version": "3.7.9"
  }
 },
 "nbformat": 4,
 "nbformat_minor": 4
}
