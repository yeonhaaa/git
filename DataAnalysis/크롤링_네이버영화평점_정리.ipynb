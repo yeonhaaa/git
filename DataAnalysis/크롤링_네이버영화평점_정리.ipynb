{
 "cells": [
  {
   "cell_type": "code",
   "execution_count": 48,
   "metadata": {},
   "outputs": [],
   "source": [
    "import requests\n",
    "from bs4 import BeautifulSoup as bs"
   ]
  },
  {
   "cell_type": "code",
   "execution_count": 49,
   "metadata": {},
   "outputs": [],
   "source": [
    "url = 'https://movie.naver.com/movie/sdb/rank/rmovie.nhn?sel=cur&date=20210610'"
   ]
  },
  {
   "cell_type": "code",
   "execution_count": 50,
   "metadata": {},
   "outputs": [],
   "source": [
    "data = requests.get(url)\n",
    "soup = bs(data.text)\n",
    "#print(soup)"
   ]
  },
  {
   "cell_type": "code",
   "execution_count": 51,
   "metadata": {},
   "outputs": [],
   "source": [
    "# 2\n",
    "meta = soup.find_all('meta')"
   ]
  },
  {
   "cell_type": "code",
   "execution_count": 52,
   "metadata": {},
   "outputs": [],
   "source": [
    "# 3\n",
    "IstRanking = soup.find(\"table\",{\"class\":\"list_ranking\"})\n",
    "#IstRanking"
   ]
  },
  {
   "cell_type": "code",
   "execution_count": 53,
   "metadata": {},
   "outputs": [
    {
     "name": "stdout",
     "output_type": "stream",
     "text": [
      "01 크루엘라 9.36\n"
     ]
    }
   ],
   "source": [
    "div = IstRanking.find('div',{'class':'tit5'})\n",
    "title = div.find('a')['title']\n",
    "point = IstRanking.find('td',{'class':'point'})\n",
    "acClass = IstRanking.find('td',{'class':'ac'})\n",
    "rank = acClass.find('img')['alt']\n",
    "print(rank, title, point.text)"
   ]
  },
  {
   "cell_type": "code",
   "execution_count": 54,
   "metadata": {},
   "outputs": [],
   "source": [
    "# 함수로 만들자\n",
    "\n",
    "def crawl(url) :\n",
    "    data = requests.get(url)\n",
    "    soup = bs(data.text)\n",
    "    return soup\n",
    "\n",
    "def movieInfo(table) :\n",
    "    meta = soup.find_all('meta')\n",
    "    IstRanking = soup.find(\"table\",{\"class\":\"list_ranking\"})\n",
    "    div = IstRanking.find('div',{'class':'tit5'})\n",
    "    title = div.find('a')['title']\n",
    "    point = IstRanking.find('td',{'class':'point'})\n",
    "    acClass = IstRanking.find('td',{'class':'ac'})\n",
    "    rank = acClass.find('img')['alt']\n",
    "    return print(rank, title, point.text)\n"
   ]
  },
  {
   "cell_type": "code",
   "execution_count": 55,
   "metadata": {},
   "outputs": [
    {
     "name": "stdout",
     "output_type": "stream",
     "text": [
      "01 크루엘라 9.36\n"
     ]
    }
   ],
   "source": [
    "url = 'https://movie.naver.com/movie/sdb/rank/rmovie.nhn?sel=cur&date=20210610'\n",
    "table = crawl(url)\n",
    "title = movieInfo(table)"
   ]
  },
  {
   "cell_type": "code",
   "execution_count": 56,
   "metadata": {},
   "outputs": [
    {
     "name": "stdout",
     "output_type": "stream",
     "text": [
      "--------------\n",
      "--------------\n",
      "01 크루엘라 9.36\n",
      "02 시네마 천국 9.33\n",
      "03 부활: 그 증거 9.30\n",
      "04 극장판 귀멸의 칼날: 무한열차편 9.29\n",
      "05 바람과 함께 사라지다 9.24\n",
      "06 해피 투게더 9.19\n",
      "07 바그다드 카페 : 디렉터스컷 9.06\n",
      "08 타오르는 여인의 초상 9.05\n",
      "09 크루즈 패밀리: 뉴 에이지 9.05\n",
      "010 서칭 포 슈가맨 9.04\n"
     ]
    },
    {
     "ename": "SyntaxError",
     "evalue": "'return' outside function (<ipython-input-56-3b90a913c330>, line 26)",
     "output_type": "error",
     "traceback": [
      "\u001b[0;36m  File \u001b[0;32m\"<ipython-input-56-3b90a913c330>\"\u001b[0;36m, line \u001b[0;32m26\u001b[0m\n\u001b[0;31m    return {'rank':rank, 'title':title, 'point':point}\u001b[0m\n\u001b[0m                                                      ^\u001b[0m\n\u001b[0;31mSyntaxError\u001b[0m\u001b[0;31m:\u001b[0m 'return' outside function\n"
     ]
    }
   ],
   "source": [
    "# 1~ 10 위 까지 한 번에 알고싶으면? \n",
    "\n",
    "# findAll 사용해서 list 로 만든 후 for 문\n",
    "trTag = IstRanking.findAll('tr')\n",
    "\n",
    "# for문 사용해서 영화 제목, 순위, 평점 한번에 가져오기\n",
    "for li in trTag[:12]:\n",
    "        try:\n",
    "            #title 제목\n",
    "            info = li.find(\"div\", {\"class\": 'tit5'})\n",
    "            aTag = info.find('a')\n",
    "            title = aTag['title']\n",
    "            \n",
    "            #rank 순위\n",
    "            acClass = li.find('td',{'class':'ac'})\n",
    "            rank = acClass.find('img')['alt']\n",
    "            \n",
    "            #point 평점\n",
    "            point = li.find('td',{'class':'point'})\n",
    "            point = point.text\n",
    "           \n",
    "            print(rank, title, point)\n",
    "        except Exception as e:\n",
    "            print(\"--------------\")\n",
    "\n",
    "return {'rank':rank, 'title':title, 'point':point}"
   ]
  },
  {
   "cell_type": "code",
   "execution_count": 46,
   "metadata": {},
   "outputs": [],
   "source": [
    "# 아까 만들었던 함수에 for문을 넣어서 다시 함수로 만들자 !! (+ link 추가 / 변수 이름 살짝 수정 / return 바꿈 )\n",
    "\n",
    "def crawl(url) :\n",
    "    data = requests.get(url)\n",
    "    soup = bs(data.text)\n",
    "    return soup\n",
    "\n",
    "def parse(table):\n",
    "    # findAll 사용해서 list 로 만든 후 for 문\n",
    "    trTag = IstRanking.findAll('tr')\n",
    "   \n",
    "    # for문 사용해서 영화 제목, 순위, 평점 한번에 가져오기\n",
    "    for li in trTag[:13]:\n",
    "        try:\n",
    "            #title 제목\n",
    "            info = li.find(\"div\", {\"class\": 'tit5'})\n",
    "            aTag = info.find('a')\n",
    "            title = aTag['title']\n",
    "            \n",
    "            #link 영화링크\n",
    "            link = 'https://movie.naver.com' + aTag['href']\n",
    "            \n",
    "            #rank 순위\n",
    "            acClass = li.find('td',{'class':'ac'})\n",
    "            rank = acClass.find('img')['alt']\n",
    "            \n",
    "            #point 평점\n",
    "            point = li.find('td',{'class':'point'})\n",
    "            point = point.text\n",
    "            \n",
    "            print(rank, title, point ,link,'\\n')\n",
    "                          \n",
    "            #예외처리\n",
    "        except Exception as e:\n",
    "            print(\"\")\n",
    "           \n",
    "    return [rank, title, point, link]\n",
    "       # movieTable = pd.DataFrame({'rank':rank,'title':title,'point':point,'link':link}) "
   ]
  },
  {
   "cell_type": "code",
   "execution_count": 47,
   "metadata": {},
   "outputs": [
    {
     "name": "stdout",
     "output_type": "stream",
     "text": [
      "\n",
      "\n",
      "01 크루엘라 9.36 https://movie.naver.com/movie/bi/mi/basic.nhn?code=187322 \n",
      "\n",
      "02 시네마 천국 9.33 https://movie.naver.com/movie/bi/mi/basic.nhn?code=10001 \n",
      "\n",
      "03 부활: 그 증거 9.30 https://movie.naver.com/movie/bi/mi/basic.nhn?code=194334 \n",
      "\n",
      "04 극장판 귀멸의 칼날: 무한열차편 9.29 https://movie.naver.com/movie/bi/mi/basic.nhn?code=196051 \n",
      "\n",
      "05 바람과 함께 사라지다 9.24 https://movie.naver.com/movie/bi/mi/basic.nhn?code=10020 \n",
      "\n",
      "06 해피 투게더 9.19 https://movie.naver.com/movie/bi/mi/basic.nhn?code=19335 \n",
      "\n",
      "07 바그다드 카페 : 디렉터스컷 9.06 https://movie.naver.com/movie/bi/mi/basic.nhn?code=16601 \n",
      "\n",
      "08 타오르는 여인의 초상 9.05 https://movie.naver.com/movie/bi/mi/basic.nhn?code=185282 \n",
      "\n",
      "09 크루즈 패밀리: 뉴 에이지 9.05 https://movie.naver.com/movie/bi/mi/basic.nhn?code=107992 \n",
      "\n",
      "010 서칭 포 슈가맨 9.04 https://movie.naver.com/movie/bi/mi/basic.nhn?code=91101 \n",
      "\n",
      "\n"
     ]
    }
   ],
   "source": [
    "# movieInfo 를 데이터프레임으로 어떻게 만드냐고요!!!!!!!!!\n",
    "\n",
    "import pandas as pd\n",
    "\n",
    "url = 'https://movie.naver.com/movie/sdb/rank/rmovie.nhn?sel=cur&date=20210610'\n",
    "table = crawl(url)\n",
    "movieInfo = parse(table)\n",
    "#movieInfo.to_csv('네이버영화평점크롤링.csv',encoding='cp949')\n",
    "#type(movieInfo)\n",
    "#movieTable = pd.DataFrame(movieTable, {'rank':rank,'title':title,'point':point,'link':link}) "
   ]
  },
  {
   "cell_type": "code",
   "execution_count": null,
   "metadata": {},
   "outputs": [],
   "source": []
  },
  {
   "cell_type": "code",
   "execution_count": null,
   "metadata": {},
   "outputs": [],
   "source": []
  }
 ],
 "metadata": {
  "kernelspec": {
   "display_name": "pydatavenv",
   "language": "python",
   "name": "pydatavenv"
  },
  "language_info": {
   "codemirror_mode": {
    "name": "ipython",
    "version": 3
   },
   "file_extension": ".py",
   "mimetype": "text/x-python",
   "name": "python",
   "nbconvert_exporter": "python",
   "pygments_lexer": "ipython3",
   "version": "3.7.9"
  }
 },
 "nbformat": 4,
 "nbformat_minor": 4
}
