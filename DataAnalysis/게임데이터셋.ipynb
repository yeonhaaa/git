{
 "cells": [
  {
   "cell_type": "markdown",
   "metadata": {},
   "source": [
    "- 여러 플랫폼의 년도별 출시된 게임 데이터셋 출처 : https://mlcourse.ai/\n",
    "- https://raw.githubusercontent.com/Datamanim/video/master/video_games_sale.csv\n",
    "- https://www.datamanim.com/dataset/03_dataq/q1/video/main.html\n",
    "\n",
    "#### 데이터설명\n",
    ">Name : 게임명/\n",
    "Platform : 출시 플랫폼/\n",
    "Year_of_Release : 출시년도/\n",
    "Genre : 장르/\n",
    "Publisher : 출시 업체/\n",
    "{지역별}_Sales : 판매량/\n",
    "User_Score : 유저스코어 (tbd : 측정 안됨)/\n",
    "Developer : 개발 업체/\n",
    "Rating : 이동등급()\n",
    "\n",
    "#### 참고\n",
    "- https://www.delftstack.com/ko/howto/python-pandas/how-to-count-the-frequency-a-value-occurs-in-pandas-dataframe/"
   ]
  },
  {
   "cell_type": "code",
   "execution_count": 3,
   "metadata": {},
   "outputs": [
    {
     "data": {
      "text/html": [
       "<div>\n",
       "<style scoped>\n",
       "    .dataframe tbody tr th:only-of-type {\n",
       "        vertical-align: middle;\n",
       "    }\n",
       "\n",
       "    .dataframe tbody tr th {\n",
       "        vertical-align: top;\n",
       "    }\n",
       "\n",
       "    .dataframe thead th {\n",
       "        text-align: right;\n",
       "    }\n",
       "</style>\n",
       "<table border=\"1\" class=\"dataframe\">\n",
       "  <thead>\n",
       "    <tr style=\"text-align: right;\">\n",
       "      <th></th>\n",
       "      <th>Unnamed: 0</th>\n",
       "      <th>Name</th>\n",
       "      <th>Platform</th>\n",
       "      <th>Year_of_Release</th>\n",
       "      <th>Genre</th>\n",
       "      <th>Publisher</th>\n",
       "      <th>NA_Sales</th>\n",
       "      <th>EU_Sales</th>\n",
       "      <th>JP_Sales</th>\n",
       "      <th>Other_Sales</th>\n",
       "      <th>Global_Sales</th>\n",
       "      <th>Critic_Score</th>\n",
       "      <th>Critic_Count</th>\n",
       "      <th>User_Score</th>\n",
       "      <th>User_Count</th>\n",
       "      <th>Developer</th>\n",
       "      <th>Rating</th>\n",
       "      <th>Year_of_ten</th>\n",
       "    </tr>\n",
       "  </thead>\n",
       "  <tbody>\n",
       "    <tr>\n",
       "      <th>0</th>\n",
       "      <td>0</td>\n",
       "      <td>Wii Sports</td>\n",
       "      <td>Wii</td>\n",
       "      <td>2006.0</td>\n",
       "      <td>Sports</td>\n",
       "      <td>Nintendo</td>\n",
       "      <td>41.36</td>\n",
       "      <td>28.96</td>\n",
       "      <td>3.77</td>\n",
       "      <td>8.45</td>\n",
       "      <td>82.53</td>\n",
       "      <td>76.0</td>\n",
       "      <td>51.0</td>\n",
       "      <td>8.0</td>\n",
       "      <td>322.0</td>\n",
       "      <td>Nintendo</td>\n",
       "      <td>E</td>\n",
       "      <td>2000.0</td>\n",
       "    </tr>\n",
       "    <tr>\n",
       "      <th>1</th>\n",
       "      <td>1</td>\n",
       "      <td>Mario Kart Wii</td>\n",
       "      <td>Wii</td>\n",
       "      <td>2008.0</td>\n",
       "      <td>Racing</td>\n",
       "      <td>Nintendo</td>\n",
       "      <td>15.68</td>\n",
       "      <td>12.76</td>\n",
       "      <td>3.79</td>\n",
       "      <td>3.29</td>\n",
       "      <td>35.52</td>\n",
       "      <td>82.0</td>\n",
       "      <td>73.0</td>\n",
       "      <td>8.3</td>\n",
       "      <td>709.0</td>\n",
       "      <td>Nintendo</td>\n",
       "      <td>E</td>\n",
       "      <td>2000.0</td>\n",
       "    </tr>\n",
       "    <tr>\n",
       "      <th>2</th>\n",
       "      <td>2</td>\n",
       "      <td>Wii Sports Resort</td>\n",
       "      <td>Wii</td>\n",
       "      <td>2009.0</td>\n",
       "      <td>Sports</td>\n",
       "      <td>Nintendo</td>\n",
       "      <td>15.61</td>\n",
       "      <td>10.93</td>\n",
       "      <td>3.28</td>\n",
       "      <td>2.95</td>\n",
       "      <td>32.77</td>\n",
       "      <td>80.0</td>\n",
       "      <td>73.0</td>\n",
       "      <td>8.0</td>\n",
       "      <td>192.0</td>\n",
       "      <td>Nintendo</td>\n",
       "      <td>E</td>\n",
       "      <td>2000.0</td>\n",
       "    </tr>\n",
       "    <tr>\n",
       "      <th>3</th>\n",
       "      <td>3</td>\n",
       "      <td>New Super Mario Bros.</td>\n",
       "      <td>DS</td>\n",
       "      <td>2006.0</td>\n",
       "      <td>Platform</td>\n",
       "      <td>Nintendo</td>\n",
       "      <td>11.28</td>\n",
       "      <td>9.14</td>\n",
       "      <td>6.50</td>\n",
       "      <td>2.88</td>\n",
       "      <td>29.80</td>\n",
       "      <td>89.0</td>\n",
       "      <td>65.0</td>\n",
       "      <td>8.5</td>\n",
       "      <td>431.0</td>\n",
       "      <td>Nintendo</td>\n",
       "      <td>E</td>\n",
       "      <td>2000.0</td>\n",
       "    </tr>\n",
       "    <tr>\n",
       "      <th>4</th>\n",
       "      <td>4</td>\n",
       "      <td>Wii Play</td>\n",
       "      <td>Wii</td>\n",
       "      <td>2006.0</td>\n",
       "      <td>Misc</td>\n",
       "      <td>Nintendo</td>\n",
       "      <td>13.96</td>\n",
       "      <td>9.18</td>\n",
       "      <td>2.93</td>\n",
       "      <td>2.84</td>\n",
       "      <td>28.92</td>\n",
       "      <td>58.0</td>\n",
       "      <td>41.0</td>\n",
       "      <td>6.6</td>\n",
       "      <td>129.0</td>\n",
       "      <td>Nintendo</td>\n",
       "      <td>E</td>\n",
       "      <td>2000.0</td>\n",
       "    </tr>\n",
       "    <tr>\n",
       "      <th>...</th>\n",
       "      <td>...</td>\n",
       "      <td>...</td>\n",
       "      <td>...</td>\n",
       "      <td>...</td>\n",
       "      <td>...</td>\n",
       "      <td>...</td>\n",
       "      <td>...</td>\n",
       "      <td>...</td>\n",
       "      <td>...</td>\n",
       "      <td>...</td>\n",
       "      <td>...</td>\n",
       "      <td>...</td>\n",
       "      <td>...</td>\n",
       "      <td>...</td>\n",
       "      <td>...</td>\n",
       "      <td>...</td>\n",
       "      <td>...</td>\n",
       "      <td>...</td>\n",
       "    </tr>\n",
       "    <tr>\n",
       "      <th>6820</th>\n",
       "      <td>6820</td>\n",
       "      <td>E.T. The Extra-Terrestrial</td>\n",
       "      <td>GBA</td>\n",
       "      <td>2001.0</td>\n",
       "      <td>Action</td>\n",
       "      <td>NewKidCo</td>\n",
       "      <td>0.01</td>\n",
       "      <td>0.00</td>\n",
       "      <td>0.00</td>\n",
       "      <td>0.00</td>\n",
       "      <td>0.01</td>\n",
       "      <td>46.0</td>\n",
       "      <td>4.0</td>\n",
       "      <td>2.4</td>\n",
       "      <td>21.0</td>\n",
       "      <td>Fluid Studios</td>\n",
       "      <td>E</td>\n",
       "      <td>2000.0</td>\n",
       "    </tr>\n",
       "    <tr>\n",
       "      <th>6821</th>\n",
       "      <td>6821</td>\n",
       "      <td>Mortal Kombat: Deadly Alliance</td>\n",
       "      <td>GBA</td>\n",
       "      <td>2002.0</td>\n",
       "      <td>Fighting</td>\n",
       "      <td>Midway Games</td>\n",
       "      <td>0.01</td>\n",
       "      <td>0.00</td>\n",
       "      <td>0.00</td>\n",
       "      <td>0.00</td>\n",
       "      <td>0.01</td>\n",
       "      <td>81.0</td>\n",
       "      <td>12.0</td>\n",
       "      <td>8.8</td>\n",
       "      <td>9.0</td>\n",
       "      <td>Criterion Games</td>\n",
       "      <td>M</td>\n",
       "      <td>2000.0</td>\n",
       "    </tr>\n",
       "    <tr>\n",
       "      <th>6822</th>\n",
       "      <td>6822</td>\n",
       "      <td>Metal Gear Solid V: Ground Zeroes</td>\n",
       "      <td>PC</td>\n",
       "      <td>2014.0</td>\n",
       "      <td>Action</td>\n",
       "      <td>Konami Digital Entertainment</td>\n",
       "      <td>0.00</td>\n",
       "      <td>0.01</td>\n",
       "      <td>0.00</td>\n",
       "      <td>0.00</td>\n",
       "      <td>0.01</td>\n",
       "      <td>80.0</td>\n",
       "      <td>20.0</td>\n",
       "      <td>7.6</td>\n",
       "      <td>412.0</td>\n",
       "      <td>Kojima Productions</td>\n",
       "      <td>M</td>\n",
       "      <td>2010.0</td>\n",
       "    </tr>\n",
       "    <tr>\n",
       "      <th>6823</th>\n",
       "      <td>6823</td>\n",
       "      <td>Breach</td>\n",
       "      <td>PC</td>\n",
       "      <td>2011.0</td>\n",
       "      <td>Shooter</td>\n",
       "      <td>Destineer</td>\n",
       "      <td>0.01</td>\n",
       "      <td>0.00</td>\n",
       "      <td>0.00</td>\n",
       "      <td>0.00</td>\n",
       "      <td>0.01</td>\n",
       "      <td>61.0</td>\n",
       "      <td>12.0</td>\n",
       "      <td>5.8</td>\n",
       "      <td>43.0</td>\n",
       "      <td>Atomic Games</td>\n",
       "      <td>T</td>\n",
       "      <td>2010.0</td>\n",
       "    </tr>\n",
       "    <tr>\n",
       "      <th>6824</th>\n",
       "      <td>6824</td>\n",
       "      <td>STORM: Frontline Nation</td>\n",
       "      <td>PC</td>\n",
       "      <td>2011.0</td>\n",
       "      <td>Strategy</td>\n",
       "      <td>Unknown</td>\n",
       "      <td>0.00</td>\n",
       "      <td>0.01</td>\n",
       "      <td>0.00</td>\n",
       "      <td>0.00</td>\n",
       "      <td>0.01</td>\n",
       "      <td>60.0</td>\n",
       "      <td>12.0</td>\n",
       "      <td>7.2</td>\n",
       "      <td>13.0</td>\n",
       "      <td>SimBin</td>\n",
       "      <td>E10+</td>\n",
       "      <td>2010.0</td>\n",
       "    </tr>\n",
       "  </tbody>\n",
       "</table>\n",
       "<p>6825 rows × 18 columns</p>\n",
       "</div>"
      ],
      "text/plain": [
       "      Unnamed: 0                               Name Platform  Year_of_Release  \\\n",
       "0              0                         Wii Sports      Wii           2006.0   \n",
       "1              1                     Mario Kart Wii      Wii           2008.0   \n",
       "2              2                  Wii Sports Resort      Wii           2009.0   \n",
       "3              3              New Super Mario Bros.       DS           2006.0   \n",
       "4              4                           Wii Play      Wii           2006.0   \n",
       "...          ...                                ...      ...              ...   \n",
       "6820        6820         E.T. The Extra-Terrestrial      GBA           2001.0   \n",
       "6821        6821     Mortal Kombat: Deadly Alliance      GBA           2002.0   \n",
       "6822        6822  Metal Gear Solid V: Ground Zeroes       PC           2014.0   \n",
       "6823        6823                             Breach       PC           2011.0   \n",
       "6824        6824            STORM: Frontline Nation       PC           2011.0   \n",
       "\n",
       "         Genre                     Publisher  NA_Sales  EU_Sales  JP_Sales  \\\n",
       "0       Sports                      Nintendo     41.36     28.96      3.77   \n",
       "1       Racing                      Nintendo     15.68     12.76      3.79   \n",
       "2       Sports                      Nintendo     15.61     10.93      3.28   \n",
       "3     Platform                      Nintendo     11.28      9.14      6.50   \n",
       "4         Misc                      Nintendo     13.96      9.18      2.93   \n",
       "...        ...                           ...       ...       ...       ...   \n",
       "6820    Action                      NewKidCo      0.01      0.00      0.00   \n",
       "6821  Fighting                  Midway Games      0.01      0.00      0.00   \n",
       "6822    Action  Konami Digital Entertainment      0.00      0.01      0.00   \n",
       "6823   Shooter                     Destineer      0.01      0.00      0.00   \n",
       "6824  Strategy                       Unknown      0.00      0.01      0.00   \n",
       "\n",
       "      Other_Sales  Global_Sales  Critic_Score  Critic_Count  User_Score  \\\n",
       "0            8.45         82.53          76.0          51.0         8.0   \n",
       "1            3.29         35.52          82.0          73.0         8.3   \n",
       "2            2.95         32.77          80.0          73.0         8.0   \n",
       "3            2.88         29.80          89.0          65.0         8.5   \n",
       "4            2.84         28.92          58.0          41.0         6.6   \n",
       "...           ...           ...           ...           ...         ...   \n",
       "6820         0.00          0.01          46.0           4.0         2.4   \n",
       "6821         0.00          0.01          81.0          12.0         8.8   \n",
       "6822         0.00          0.01          80.0          20.0         7.6   \n",
       "6823         0.00          0.01          61.0          12.0         5.8   \n",
       "6824         0.00          0.01          60.0          12.0         7.2   \n",
       "\n",
       "      User_Count           Developer Rating  Year_of_ten  \n",
       "0          322.0            Nintendo      E       2000.0  \n",
       "1          709.0            Nintendo      E       2000.0  \n",
       "2          192.0            Nintendo      E       2000.0  \n",
       "3          431.0            Nintendo      E       2000.0  \n",
       "4          129.0            Nintendo      E       2000.0  \n",
       "...          ...                 ...    ...          ...  \n",
       "6820        21.0       Fluid Studios      E       2000.0  \n",
       "6821         9.0     Criterion Games      M       2000.0  \n",
       "6822       412.0  Kojima Productions      M       2010.0  \n",
       "6823        43.0        Atomic Games      T       2010.0  \n",
       "6824        13.0              SimBin   E10+       2010.0  \n",
       "\n",
       "[6825 rows x 18 columns]"
      ]
     },
     "execution_count": 3,
     "metadata": {},
     "output_type": "execute_result"
    }
   ],
   "source": [
    "#1. 데이터 Url을 이용하여 df변수에 데이터를 로드하라\n",
    "import pandas as pd\n",
    "df = pd.read_csv('https://raw.githubusercontent.com/Datamanim/video/master/video_games_sale.csv')\n",
    "#df.info()\n",
    "df"
   ]
  },
  {
   "cell_type": "markdown",
   "metadata": {},
   "source": [
    "#### # 2\n",
    "video_games_sales 데이터셋(video_games_sales.csv)의 출시년도(Year_of_Release) 컬럼을 10년단위(ex 1990~1999 : 1990)로 변환하여 새로운 컬럼(year_of_ten)에 추가하고 게임이 가장 많이 출시된 년도(10년단위)와 가장 적게 출시된 년도(10년단위)를 각각 구하여라."
   ]
  },
  {
   "cell_type": "code",
   "execution_count": 41,
   "metadata": {},
   "outputs": [
    {
     "name": "stdout",
     "output_type": "stream",
     "text": [
      "max: 2000 \n",
      "min: 1980\n"
     ]
    }
   ],
   "source": [
    "#print(min(df['Year_of_Release']))\n",
    "#print(max(df['Year_of_Release']))\n",
    "year = df['Year_of_Release']\n",
    "df['year_of_ten'] = (year//10)*10\n",
    "#max = int(df.year_of_ten.value_counts().index[0])\n",
    "#min = int(df.year_of_ten.value_counts().index[-1])\n",
    "      \n",
    "max = int(df['year_of_ten'].value_counts().index[0]) #모든 데이터 프레임 객체는Series 객체의 모음이므로이 방법은 pandas.Series 객체에 가장 적합하다. Series.values_counts()함수를 사용\n",
    "min = int(df['year_of_ten'].value_counts().index[-1]) # 최대값 맨 마지막 값\n",
    "print('max:',max, '\\nmin:',min)"
   ]
  },
  {
   "cell_type": "markdown",
   "metadata": {},
   "source": [
    "#### # 3\n",
    "플레이스테이션 플랫폼 시리즈(PS,PS2,PS3,PS4,PSV)중 장르가 Action로 발매된 게임의 총 수는?"
   ]
  },
  {
   "cell_type": "code",
   "execution_count": 81,
   "metadata": {},
   "outputs": [
    {
     "name": "stdout",
     "output_type": "stream",
     "text": [
      "616\n"
     ]
    }
   ],
   "source": [
    "platform = pd.DataFrame(df.Platform) # Series -> DataFrame으로 바꾸기 \n",
    "#print(type(platform))\n",
    "# 플랫폼시리즈 필터링 \n",
    "platform_series = ['PS','PS2','PS3','PS4','PSV']\n",
    "df_filter = df[(df['Platform'].isin(platform_series)) & (df['Genre'] == 'Action')] # 리스트 조건 안에 포함되는 데이터 추출 (Platform열에서 platform_series에 해당되는 행만 추출)\n",
    "#platform_filter.shape\n",
    "print(len(df_filter)) "
   ]
  },
  {
   "cell_type": "markdown",
   "metadata": {},
   "source": [
    "#### # 4\n",
    "게임이 400개 이상 출시된 플랫폼들을 추출하여 각 플랫폼의 User_Score 평균값을 구하여 데이터프레임을 만들고 값을 내림차순으로 정리하여 출력하라"
   ]
  },
  {
   "cell_type": "code",
   "execution_count": 58,
   "metadata": {},
   "outputs": [
    {
     "name": "stdout",
     "output_type": "stream",
     "text": [
      "  Platform  User_Score\n",
      "2      PS2    7.664386\n",
      "6       XB    7.540708\n",
      "1       PC    7.060369\n",
      "0       DS    7.047198\n",
      "4      Wii    6.903758\n",
      "3      PS3    6.782705\n",
      "5     X360    6.780769\n"
     ]
    }
   ],
   "source": [
    "Platform_filter = df.Platform.value_counts()[df.Platform.value_counts()>=400].index # 400 이상 플랫폼만 추출. 인덱스에 플랫폼 이름있음 \n",
    "#User_score_mean = Platform_filter \n",
    "# as_index=False 구문은 이 그룹을 인덱스로 지정할 것인지 여부인데, 인덱스로 지정하면 두 번째 테이블처럼 그룹이 인덱스로 들어가게됩니다. \n",
    "User_Score = df[df.Platform.isin(Platform_filter)].groupby(['Platform'], as_index=False).mean() # 플랫폼 중 400이상인 플랫폼 컬럼별 평균 \n",
    "#User_Score\n",
    "df_platform =User_Score[['Platform','User_Score']].sort_values('User_Score', ascending=False)\n",
    "print(df_platform)"
   ]
  },
  {
   "cell_type": "markdown",
   "metadata": {},
   "source": [
    "#### # 5\n",
    "게임 이름에 Mario가 들어가는 게임을 3회 개발한 개발자(Developer컬럼)을 구하여라"
   ]
  },
  {
   "cell_type": "code",
   "execution_count": 51,
   "metadata": {},
   "outputs": [
    {
     "name": "stdout",
     "output_type": "stream",
     "text": [
      "['Nintendo, Nd Cube', 'Nintendo, Nintendo Software Technology']\n"
     ]
    }
   ],
   "source": [
    "# Developer 중 Name Mario가 들어가는 게임 3회 개발한 컬럼 구하기\n",
    "Developer_Mario = df[df.Name.str.contains('Mario')].Developer.value_counts() # 특정 단어 포함되는 행 출력\n",
    "Ans = list(Developer_Mario[Developer_Mario==3].index)\n",
    "print(Ans)"
   ]
  },
  {
   "cell_type": "markdown",
   "metadata": {},
   "source": [
    "#### # 6\n",
    "PS2 플랫폼으로 출시된 게임들의 User_Score의 첨도를 구하여라"
   ]
  },
  {
   "cell_type": "code",
   "execution_count": 66,
   "metadata": {},
   "outputs": [
    {
     "name": "stdout",
     "output_type": "stream",
     "text": [
      "2.475828623435267\n"
     ]
    }
   ],
   "source": [
    "# 첨도 : 위로 뾰족한 정도 \n",
    "from scipy.stats import kurtosis\n",
    "Platform_PS2 = df[df.Platform=='PS2'].User_Score\n",
    "ans = kurtosis(Platform_PS2)\n",
    "print(ans)"
   ]
  },
  {
   "cell_type": "markdown",
   "metadata": {},
   "source": [
    "#### # 7\n",
    "각 게임별 NA_Sales,EU_Sales,JP_Sales,Other_Sales 값의 합은 Global_Sales와 동일해야한다. 소숫점 2자리 이하의 생략으로 둘의 값의 다른경우가 존재하는데, 이러한 케이스가 몇개 있는지 확인하라"
   ]
  },
  {
   "cell_type": "code",
   "execution_count": 101,
   "metadata": {},
   "outputs": [
    {
     "name": "stdout",
     "output_type": "stream",
     "text": [
      "3636\n"
     ]
    }
   ],
   "source": [
    "Sales_sum = df.loc[:,'NA_Sales':'Other_Sales'].sum(axis=1)\n",
    "ans = df[Sales_sum!=df.Global_Sales].shape[0]\n",
    "print(ans)"
   ]
  },
  {
   "cell_type": "markdown",
   "metadata": {},
   "source": [
    "#### # 8\n",
    "User_Count컬럼의 값이 120 이상인 게임들 중에서 User_Score의 값이 9.0이상인 게임의 수를 구하여라"
   ]
  },
  {
   "cell_type": "code",
   "execution_count": 123,
   "metadata": {},
   "outputs": [
    {
     "name": "stdout",
     "output_type": "stream",
     "text": [
      "86\n"
     ]
    }
   ],
   "source": [
    "# User_Count >= 120 User_Score >= 9 .value_counts()\n",
    "ans = df[(df['User_Count']>=120) & (df['User_Score']>=9.0)]\n",
    "print(len(ans))"
   ]
  },
  {
   "cell_type": "code",
   "execution_count": 120,
   "metadata": {},
   "outputs": [
    {
     "data": {
      "text/plain": [
       "86"
      ]
     },
     "execution_count": 120,
     "metadata": {},
     "output_type": "execute_result"
    }
   ],
   "source": [
    "Ans = len(df[(df.User_Count >=120) & (df.User_Score >=9.0)])\n",
    "Ans"
   ]
  },
  {
   "cell_type": "markdown",
   "metadata": {},
   "source": [
    "### # 9\n",
    "Global_Sales컬럼의 값들을 robust스케일을 진행하고 40이상인 데이터 수를 구하여라\n"
   ]
  },
  {
   "cell_type": "code",
   "execution_count": 141,
   "metadata": {},
   "outputs": [
    {
     "name": "stdout",
     "output_type": "stream",
     "text": [
      "6\n"
     ]
    }
   ],
   "source": [
    "from sklearn.preprocessing import RobustScaler\n",
    "Global_sales = df['Global_Sales'].values.reshape(-1,1)\n",
    "scaler = RobustScaler().fit(Global_sales)\n",
    "transform = scaler.transform(Global_sales)\n",
    "ans = len(transform[transform>=40])\n",
    "print(ans)"
   ]
  },
  {
   "cell_type": "code",
   "execution_count": null,
   "metadata": {},
   "outputs": [],
   "source": []
  }
 ],
 "metadata": {
  "kernelspec": {
   "display_name": "pydatavenv",
   "language": "python",
   "name": "pydatavenv"
  },
  "language_info": {
   "codemirror_mode": {
    "name": "ipython",
    "version": 3
   },
   "file_extension": ".py",
   "mimetype": "text/x-python",
   "name": "python",
   "nbconvert_exporter": "python",
   "pygments_lexer": "ipython3",
   "version": "3.7.9"
  }
 },
 "nbformat": 4,
 "nbformat_minor": 4
}
