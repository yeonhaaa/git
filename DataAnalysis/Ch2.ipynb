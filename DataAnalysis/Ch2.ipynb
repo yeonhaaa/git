{
 "cells": [
  {
   "cell_type": "markdown",
   "metadata": {},
   "source": [
    "## Python machine Learning Cookbook \n",
    "- 빅분기 실기 준비 공부!! (5/11~)"
   ]
  },
  {
   "cell_type": "code",
   "execution_count": 7,
   "metadata": {},
   "outputs": [
    {
     "name": "stdout",
     "output_type": "stream",
     "text": [
      "[ 0.  0.  5. 13.  9.  1.  0.  0.  0.  0. 13. 15. 10. 15.  5.  0.  0.  3.\n",
      " 15.  2.  0. 11.  8.  0.  0.  4. 12.  0.  0.  8.  8.  0.  0.  5.  8.  0.\n",
      "  0.  9.  8.  0.  0.  4. 11.  0.  1. 12.  7.  0.  0.  2. 14.  5. 10. 12.\n",
      "  0.  0.  0.  0.  6. 13. 10.  0.  0.  0.]\n",
      "dict_keys(['data', 'target', 'frame', 'feature_names', 'target_names', 'images', 'DESCR'])\n",
      "[0 1 2 3 4]\n",
      "\n",
      "\n",
      "feature\n",
      " [[ 1.29322588 -0.61736206 -0.11044703]\n",
      " [-2.793085    0.36633201  1.93752881]\n",
      " [ 0.80186103 -0.18656977  0.0465673 ]]\n",
      "target\n",
      " [-10.37865986  25.5124503   19.67705609]\n",
      "\n",
      "\n",
      "feature\n",
      " [[ 1.06354768 -1.42632219  1.02163151]\n",
      " [ 0.23156977  1.49535261  0.33251578]\n",
      " [ 0.15972951  0.83533515 -0.40869554]]\n",
      "target\n",
      " [1 0 0]\n",
      "\n",
      "\n",
      "feature\n",
      " [[ -1.22685609   3.25572052]\n",
      " [ -9.57463218  -4.38310652]\n",
      " [-10.71976941  -4.20558148]]\n",
      "target\n",
      " [0 1 1]\n"
     ]
    },
    {
     "data": {
      "image/png": "[encoded data removed]",
      "text/plain": [
       "<Figure size 432x288 with 1 Axes>"
      ]
     },
     "metadata": {
      "needs_background": "light"
     },
     "output_type": "display_data"
    }
   ],
   "source": [
    "# 2.1 사이킷런의 데이터셋 적재\n",
    "from sklearn import datasets\n",
    "digits = datasets.load_digits()\n",
    "features = digits.data\n",
    "target = digits.target\n",
    "print(features[0])\n",
    "\n",
    "# sklearn.datasets 모듈 아래에 있는 함수\n",
    "print(digits.keys())\n",
    "\n",
    "# 0부터 4까지 5개의 숫자만 반환. n_class 매개변수\n",
    "import numpy as np\n",
    "X, y = datasets.load_digits(n_class=5, return_X_y=True)\n",
    "print(np.unique(y))\n",
    "print('\\n')\n",
    "\n",
    "# 2.2 모의데이터셋 만들기\n",
    "# 선형회귀에 사용할 데이터셋 필요 -> make_regression\n",
    "from sklearn.datasets import make_regression\n",
    "features, target, coefficients = make_regression(n_samples = 100,\n",
    "                                                n_features = 3,\n",
    "                                                n_informative = 3,\n",
    "                                                noise = 0.0,\n",
    "                                                coef = True,\n",
    "                                                random_state = 1)\n",
    "# 특성행렬(features) 타깃벡터(target) 확인\n",
    "print('feature\\n', features[:3])\n",
    "print('target\\n', target[:3])\n",
    "print('\\n')\n",
    "\n",
    "# 분류에 필요한 데이터셋 -> make_classfication\n",
    "from sklearn.datasets import make_classification\n",
    "features, target, = make_classification(n_samples =100,\n",
    "                                      n_features = 3,\n",
    "                                      n_informative = 3,\n",
    "                                      n_redundant = 0,\n",
    "                                      n_classes = 2,\n",
    "                                      weights = [.25, .75],\n",
    "                                      random_state = 1)\n",
    "\n",
    "print('feature\\n', features[:3])\n",
    "print('target\\n', target[:3])\n",
    "print('\\n')\n",
    "\n",
    "# 군집알고리즘에 적용 -> make_blobs\n",
    "from sklearn.datasets import make_blobs\n",
    "features, target, = make_blobs(n_samples =100,\n",
    "                                      n_features = 2,\n",
    "                                      centers = 3,\n",
    "                                      cluster_std = 0.5,\n",
    "                                      shuffle = True,\n",
    "                                      random_state = 1)\n",
    "\n",
    "print('feature\\n', features[:3])\n",
    "print('target\\n', target[:3])\n",
    "\n",
    "# 클러스터 시각화\n",
    "import matplotlib.pyplot as plt\n",
    "plt.scatter(features[:,0], features[:,1], c=target)\n",
    "plt.show()"
   ]
  }
 ],
 "metadata": {
  "kernelspec": {
   "display_name": "pydatavenv",
   "language": "python",
   "name": "pydatavenv"
  },
  "language_info": {
   "codemirror_mode": {
    "name": "ipython",
    "version": 3
   },
   "file_extension": ".py",
   "mimetype": "text/x-python",
   "name": "python",
   "nbconvert_exporter": "python",
   "pygments_lexer": "ipython3",
   "version": "3.7.9"
  }
 },
 "nbformat": 4,
 "nbformat_minor": 4
}
