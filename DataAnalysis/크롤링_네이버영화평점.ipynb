{
 "cells": [
  {
   "cell_type": "markdown",
   "metadata": {},
   "source": [
    "#### 네이버 영화 평점 크롤링"
   ]
  },
  {
   "cell_type": "code",
   "execution_count": 1,
   "metadata": {},
   "outputs": [],
   "source": [
    "import requests\n",
    "from bs4 import BeautifulSoup as bs"
   ]
  },
  {
   "cell_type": "code",
   "execution_count": 168,
   "metadata": {},
   "outputs": [],
   "source": [
    "url = 'https://movie.naver.com/movie/sdb/rank/rmovie.nhn?sel=cur&date=20210602'"
   ]
  },
  {
   "cell_type": "markdown",
   "metadata": {},
   "source": [
    "##### 1. 네이버 영화 평점 순위의 랭킹사이트의 데이터를 requests를 이용하여 가져오고 parsing 하여 soup 변수에 저장하라\n",
    "##### 2. 메타정보에 관한 모든 파싱값을 meta 변수에 저장하라\n",
    "##### 3. 랭킹테이블의 모든파싱데이터를 가져와서 lstRanking 변수에 저장하라 class=list_ranking\n",
    "##### 4. lstRanking에서 모든 영화의 순위, 이름, 평점, 영화정보링크를 가져와서 데이터프레임을 만들고 movieTable 변수에 저장하라\n",
    "##### 5. movieTable에 date 컬럼을 추가하여 2021-05-03 을 입력하라\n",
    "##### 6. 21년 4월 1일 부터 4월 30일까지 일자별 리스트를 생성하여 하나의 데이터 프레임(변수명 total)에 저장하라. 날짜는 date컬럼에 생성한다.\n",
    "##### 7. total 데이터에서 일자별 3위 rank의 데이터를 rankThree 변수에 저장하라\n",
    "##### 8. 해당기간동안 랭킹 1위 영화들의 그 횟수를 구하여라\n",
    "##### 9. 데이터를 재구성하여 일자별 랭킹의 영화 제목을 출력하라\n"
   ]
  },
  {
   "cell_type": "code",
   "execution_count": 169,
   "metadata": {},
   "outputs": [],
   "source": [
    "# 1\n",
    "data = requests.get(url)\n",
    "soup = bs(data.text)\n",
    "#print(soup)\n"
   ]
  },
  {
   "cell_type": "code",
   "execution_count": 170,
   "metadata": {},
   "outputs": [],
   "source": [
    "# 2\n",
    "meta = soup.find_all('meta')\n",
    "#meta"
   ]
  },
  {
   "cell_type": "code",
   "execution_count": 171,
   "metadata": {},
   "outputs": [],
   "source": [
    "# 3\n",
    "IstRanking = soup.find(\"table\",{\"class\":\"list_ranking\"})\n",
    "#IstRanking"
   ]
  },
  {
   "cell_type": "code",
   "execution_count": 243,
   "metadata": {},
   "outputs": [],
   "source": [
    "# 함수로 만들기 \n",
    "\n",
    "def crawl(url) :\n",
    "    data = requests.get(url)\n",
    "    soup = bs(data.text)\n",
    "    return soup\n",
    "\n",
    "def parse(table):\n",
    "    # findAll 사용해서 list 로 만든 후 for 문\n",
    "    trTag = IstRanking.findAll('tr')\n",
    "   \n",
    "    # for문 사용해서 영화 제목, 순위, 평점 한번에 가져오기\n",
    "    for li in trTag[:13]:\n",
    "        try:\n",
    "            #title 제목\n",
    "            info = li.find(\"div\", {\"class\": 'tit5'})\n",
    "            aTag = info.find('a')\n",
    "            title = aTag['title']\n",
    "            \n",
    "            #link 영화링크\n",
    "            link = 'https://movie.naver.com' + aTag['href']\n",
    "            \n",
    "            #rank 순위\n",
    "            acClass = li.find('td',{'class':'ac'})\n",
    "            rank = acClass.find('img')['alt']\n",
    "            \n",
    "            #point 평점\n",
    "            point = li.find('td',{'class':'point'})\n",
    "            point = point.text\n",
    "            \n",
    "            print(rank, title, point ,link)\n",
    "                          \n",
    "            #예외처리\n",
    "        except Exception as e:\n",
    "            print(\"\")\n",
    "           \n",
    "    return [rank, title, point, link]\n",
    "       # movieTable = pd.DataFrame({'rank':rank,'title':title,'point':point,'link':link}) "
   ]
  },
  {
   "cell_type": "code",
   "execution_count": 244,
   "metadata": {},
   "outputs": [
    {
     "name": "stdout",
     "output_type": "stream",
     "text": [
      "\n",
      "\n",
      "01 아일라 9.50 https://movie.naver.com/movie/bi/mi/basic.nhn?code=169240\n",
      "02 크루엘라 9.47 https://movie.naver.com/movie/bi/mi/basic.nhn?code=187322\n",
      "03 언플랜드 9.33 https://movie.naver.com/movie/bi/mi/basic.nhn?code=182525\n",
      "04 부활: 그 증거 9.30 https://movie.naver.com/movie/bi/mi/basic.nhn?code=194334\n",
      "05 극장판 귀멸의 칼날: 무한열차편 9.29 https://movie.naver.com/movie/bi/mi/basic.nhn?code=196051\n",
      "06 바람과 함께 사라지다 9.24 https://movie.naver.com/movie/bi/mi/basic.nhn?code=10020\n",
      "07 해피 투게더 9.19 https://movie.naver.com/movie/bi/mi/basic.nhn?code=19335\n",
      "08 크루즈 패밀리: 뉴 에이지 9.07 https://movie.naver.com/movie/bi/mi/basic.nhn?code=107992\n",
      "09 빅 피쉬 9.02 https://movie.naver.com/movie/bi/mi/basic.nhn?code=37936\n",
      "010 명탐정 코난: 비색의 탄환 8.94 https://movie.naver.com/movie/bi/mi/basic.nhn?code=203097\n",
      "\n"
     ]
    }
   ],
   "source": [
    "# movieInfo 를 데이터프레임으로 어떻게 만드냐고요!!!!!!!!!\n",
    "\n",
    "import pandas as pd\n",
    "\n",
    "url = 'https://movie.naver.com/movie/sdb/rank/rmovie.nhn?sel=cur&date=20210602'\n",
    "table = crawl(url)\n",
    "movieInfo = parse(table)\n",
    "#movieInfo.to_csv('네이버영화평점크롤링.csv',encoding='cp949')\n",
    "#type(movieInfo)\n",
    "#movieTable = pd.DataFrame(movieTable, {'rank':rank,'title':title,'point':point,'link':link}) "
   ]
  },
  {
   "cell_type": "code",
   "execution_count": 240,
   "metadata": {},
   "outputs": [
    {
     "name": "stdout",
     "output_type": "stream",
     "text": [
      "8.93\n"
     ]
    }
   ],
   "source": [
    "print(point)"
   ]
  },
  {
   "cell_type": "code",
   "execution_count": 237,
   "metadata": {},
   "outputs": [
    {
     "ename": "NameError",
     "evalue": "name 'link' is not defined",
     "output_type": "error",
     "traceback": [
      "\u001b[0;31m---------------------------------------------------------------------------\u001b[0m",
      "\u001b[0;31mNameError\u001b[0m                                 Traceback (most recent call last)",
      "\u001b[0;32m<ipython-input-237-dcf190589a4b>\u001b[0m in \u001b[0;36m<module>\u001b[0;34m\u001b[0m\n\u001b[1;32m      1\u001b[0m \u001b[0;32mimport\u001b[0m \u001b[0mpandas\u001b[0m \u001b[0;32mas\u001b[0m \u001b[0mpd\u001b[0m\u001b[0;34m\u001b[0m\u001b[0;34m\u001b[0m\u001b[0m\n\u001b[0;32m----> 2\u001b[0;31m \u001b[0mmovieTable\u001b[0m \u001b[0;34m=\u001b[0m \u001b[0mpd\u001b[0m\u001b[0;34m.\u001b[0m\u001b[0mDataFrame\u001b[0m\u001b[0;34m(\u001b[0m\u001b[0mmovieTable\u001b[0m\u001b[0;34m,\u001b[0m \u001b[0;34m{\u001b[0m\u001b[0;34m'rank'\u001b[0m\u001b[0;34m:\u001b[0m\u001b[0mrank\u001b[0m\u001b[0;34m,\u001b[0m\u001b[0;34m'title'\u001b[0m\u001b[0;34m:\u001b[0m\u001b[0mtitle\u001b[0m\u001b[0;34m,\u001b[0m\u001b[0;34m'point'\u001b[0m\u001b[0;34m:\u001b[0m\u001b[0mpoint\u001b[0m\u001b[0;34m,\u001b[0m \u001b[0;34m'link'\u001b[0m\u001b[0;34m:\u001b[0m\u001b[0mlink\u001b[0m\u001b[0;34m}\u001b[0m\u001b[0;34m)\u001b[0m\u001b[0;34m\u001b[0m\u001b[0;34m\u001b[0m\u001b[0m\n\u001b[0m",
      "\u001b[0;31mNameError\u001b[0m: name 'link' is not defined"
     ]
    }
   ],
   "source": [
    "import pandas as pd\n",
    "movieTable = pd.DataFrame(movieTable, {'rank':rank,'title':title,'point':point, 'link':link}) "
   ]
  },
  {
   "cell_type": "code",
   "execution_count": 143,
   "metadata": {},
   "outputs": [],
   "source": [
    "# findAll 사용해서 list 로 만든 후 for 문\n",
    "trTag = IstRanking.findAll('tr')"
   ]
  },
  {
   "cell_type": "code",
   "execution_count": 220,
   "metadata": {},
   "outputs": [
    {
     "name": "stdout",
     "output_type": "stream",
     "text": [
      "--------------\n",
      "--------------\n",
      "01 아일라 9.50\n",
      "02 크루엘라 9.47\n",
      "03 언플랜드 9.33\n",
      "04 부활: 그 증거 9.30\n",
      "05 극장판 귀멸의 칼날: 무한열차편 9.29\n",
      "06 바람과 함께 사라지다 9.24\n",
      "07 해피 투게더 9.19\n",
      "08 크루즈 패밀리: 뉴 에이지 9.07\n",
      "09 빅 피쉬 9.02\n",
      "010 명탐정 코난: 비색의 탄환 8.94\n",
      "--------------\n",
      "11 러브 액츄얼리 8.93\n",
      "12 중경삼림 8.93\n"
     ]
    },
    {
     "ename": "SyntaxError",
     "evalue": "'return' outside function (<ipython-input-220-49c3afd9139e>, line 21)",
     "output_type": "error",
     "traceback": [
      "\u001b[0;36m  File \u001b[0;32m\"<ipython-input-220-49c3afd9139e>\"\u001b[0;36m, line \u001b[0;32m21\u001b[0m\n\u001b[0;31m    return {'rank':rank, 'title':title, 'point':point}\u001b[0m\n\u001b[0m                                                      ^\u001b[0m\n\u001b[0;31mSyntaxError\u001b[0m\u001b[0;31m:\u001b[0m 'return' outside function\n"
     ]
    }
   ],
   "source": [
    "# for문 사용해서 영화 제목, 순위, 평점 한번에 가져오기\n",
    "for li in trTag[:15]:\n",
    "        try:\n",
    "            #title 제목\n",
    "            info = li.find(\"div\", {\"class\": 'tit5'})\n",
    "            aTag = info.find('a')\n",
    "            title = aTag['title']\n",
    "            \n",
    "            #rank 순위\n",
    "            acClass = li.find('td',{'class':'ac'})\n",
    "            rank = acClass.find('img')['alt']\n",
    "            \n",
    "            #point 평점\n",
    "            point = li.find('td',{'class':'point'})\n",
    "            point = point.text\n",
    "           \n",
    "            print(rank, title, point)\n",
    "        except Exception as e:\n",
    "            print(\"--------------\")\n",
    "\n",
    "return {'rank':rank, 'title':title, 'point':point}"
   ]
  },
  {
   "cell_type": "code",
   "execution_count": null,
   "metadata": {},
   "outputs": [],
   "source": []
  },
  {
   "cell_type": "code",
   "execution_count": 144,
   "metadata": {},
   "outputs": [
    {
     "ename": "NameError",
     "evalue": "name 'div' is not defined",
     "output_type": "error",
     "traceback": [
      "\u001b[0;31m---------------------------------------------------------------------------\u001b[0m",
      "\u001b[0;31mNameError\u001b[0m                                 Traceback (most recent call last)",
      "\u001b[0;32m<ipython-input-144-77b48115f6bd>\u001b[0m in \u001b[0;36m<module>\u001b[0;34m\u001b[0m\n\u001b[0;32m----> 1\u001b[0;31m \u001b[0mtitle\u001b[0m \u001b[0;34m=\u001b[0m \u001b[0mdiv\u001b[0m\u001b[0;34m.\u001b[0m\u001b[0mfind\u001b[0m\u001b[0;34m(\u001b[0m\u001b[0;34m'a'\u001b[0m\u001b[0;34m)\u001b[0m\u001b[0;34m[\u001b[0m\u001b[0;34m'title'\u001b[0m\u001b[0;34m]\u001b[0m\u001b[0;34m\u001b[0m\u001b[0;34m\u001b[0m\u001b[0m\n\u001b[0m\u001b[1;32m      2\u001b[0m \u001b[0mpoint\u001b[0m \u001b[0;34m=\u001b[0m \u001b[0mIstRanking\u001b[0m\u001b[0;34m.\u001b[0m\u001b[0mfind\u001b[0m\u001b[0;34m(\u001b[0m\u001b[0;34m'td'\u001b[0m\u001b[0;34m,\u001b[0m\u001b[0;34m{\u001b[0m\u001b[0;34m'class'\u001b[0m\u001b[0;34m:\u001b[0m\u001b[0;34m'point'\u001b[0m\u001b[0;34m}\u001b[0m\u001b[0;34m)\u001b[0m\u001b[0;34m\u001b[0m\u001b[0;34m\u001b[0m\u001b[0m\n\u001b[1;32m      3\u001b[0m \u001b[0macClass\u001b[0m \u001b[0;34m=\u001b[0m \u001b[0mIstRanking\u001b[0m\u001b[0;34m.\u001b[0m\u001b[0mfind\u001b[0m\u001b[0;34m(\u001b[0m\u001b[0;34m'td'\u001b[0m\u001b[0;34m,\u001b[0m\u001b[0;34m{\u001b[0m\u001b[0;34m'class'\u001b[0m\u001b[0;34m:\u001b[0m\u001b[0;34m'ac'\u001b[0m\u001b[0;34m}\u001b[0m\u001b[0;34m)\u001b[0m\u001b[0;34m\u001b[0m\u001b[0;34m\u001b[0m\u001b[0m\n\u001b[1;32m      4\u001b[0m \u001b[0mrank\u001b[0m \u001b[0;34m=\u001b[0m \u001b[0macClass\u001b[0m\u001b[0;34m.\u001b[0m\u001b[0mfind\u001b[0m\u001b[0;34m(\u001b[0m\u001b[0;34m'img'\u001b[0m\u001b[0;34m)\u001b[0m\u001b[0;34m[\u001b[0m\u001b[0;34m'alt'\u001b[0m\u001b[0;34m]\u001b[0m\u001b[0;34m\u001b[0m\u001b[0;34m\u001b[0m\u001b[0m\n",
      "\u001b[0;31mNameError\u001b[0m: name 'div' is not defined"
     ]
    }
   ],
   "source": [
    "title = div.find('a')['title']\n",
    "point = IstRanking.find('td',{'class':'point'})\n",
    "acClass = IstRanking.find('td',{'class':'ac'})\n",
    "rank = acClass.find('img')['alt']"
   ]
  },
  {
   "cell_type": "code",
   "execution_count": null,
   "metadata": {},
   "outputs": [],
   "source": [
    "print(rank, title, point.text)"
   ]
  },
  {
   "cell_type": "code",
   "execution_count": null,
   "metadata": {},
   "outputs": [],
   "source": []
  },
  {
   "cell_type": "code",
   "execution_count": 245,
   "metadata": {},
   "outputs": [],
   "source": [
    "# 함수로 만들기 \n",
    "\n",
    "def crawl(url) :\n",
    "    data = requests.get(url)\n",
    "    soup = bs(data.text)\n",
    "    return soup\n",
    "\n",
    "def movieInfo(table) :\n",
    "    meta = soup.find_all('meta')\n",
    "    IstRanking = soup.find(\"table\",{\"class\":\"list_ranking\"})\n",
    "    div = IstRanking.find('div',{'class':'tit5'})\n",
    "    title = div.find('a')['title']\n",
    "    point = IstRanking.find('td',{'class':'point'})\n",
    "    acClass = IstRanking.find('td',{'class':'ac'})\n",
    "    rank = acClass.find('img')['alt']\n",
    "    return print(rank, title, point.text)"
   ]
  },
  {
   "cell_type": "code",
   "execution_count": 246,
   "metadata": {},
   "outputs": [
    {
     "name": "stdout",
     "output_type": "stream",
     "text": [
      "01 아일라 9.50\n"
     ]
    }
   ],
   "source": [
    "url = 'https://movie.naver.com/movie/sdb/rank/rmovie.nhn?sel=cur&date=20210602'\n",
    "table = crawl(url)\n",
    "title = movieInfo(table)"
   ]
  },
  {
   "cell_type": "code",
   "execution_count": 247,
   "metadata": {},
   "outputs": [
    {
     "ename": "NameError",
     "evalue": "name 'pageString' is not defined",
     "output_type": "error",
     "traceback": [
      "\u001b[0;31m---------------------------------------------------------------------------\u001b[0m",
      "\u001b[0;31mNameError\u001b[0m                                 Traceback (most recent call last)",
      "\u001b[0;32m<ipython-input-247-9363560b3246>\u001b[0m in \u001b[0;36m<module>\u001b[0;34m\u001b[0m\n\u001b[0;32m----> 1\u001b[0;31m \u001b[0mtitle\u001b[0m \u001b[0;34m=\u001b[0m \u001b[0mparse\u001b[0m\u001b[0;34m(\u001b[0m\u001b[0mpageString\u001b[0m\u001b[0;34m)\u001b[0m\u001b[0;34m\u001b[0m\u001b[0;34m\u001b[0m\u001b[0m\n\u001b[0m",
      "\u001b[0;31mNameError\u001b[0m: name 'pageString' is not defined"
     ]
    }
   ],
   "source": [
    "title = parse(pageString)"
   ]
  },
  {
   "cell_type": "code",
   "execution_count": null,
   "metadata": {},
   "outputs": [],
   "source": []
  }
 ],
 "metadata": {
  "kernelspec": {
   "display_name": "pydatavenv",
   "language": "python",
   "name": "pydatavenv"
  },
  "language_info": {
   "codemirror_mode": {
    "name": "ipython",
    "version": 3
   },
   "file_extension": ".py",
   "mimetype": "text/x-python",
   "name": "python",
   "nbconvert_exporter": "python",
   "pygments_lexer": "ipython3",
   "version": "3.7.9"
  }
 },
 "nbformat": 4,
 "nbformat_minor": 4
}
