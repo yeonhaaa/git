{
 "cells": [
  {
   "cell_type": "code",
   "execution_count": 4,
   "metadata": {},
   "outputs": [],
   "source": [
    "from PIL import Image, ImageDraw, ImageFont\n",
    "import os, glob"
   ]
  },
  {
   "cell_type": "code",
   "execution_count": 11,
   "metadata": {},
   "outputs": [],
   "source": [
    "# 이미지 크기 조정\n",
    "#files = glob.glob('../data/image/*.JPG')"
   ]
  },
  {
   "cell_type": "code",
   "execution_count": 25,
   "metadata": {},
   "outputs": [],
   "source": [
    "img = Image.open('../git/data/image/smile.jpg')\n",
    "img_resize = img.resize((int(img.width / 2), int(img.height / 2)))\n",
    "img_resize.save('../git/data/image/smile_resize_half.jpg')\n",
    "\n",
    "img_resize_lanczos = img.resize((256, 350), Image.LANCZOS)\n",
    "img_resize_lanczos.save('../git/data/image/smile_resize_half1.jpg')"
   ]
  },
  {
   "cell_type": "code",
   "execution_count": 17,
   "metadata": {},
   "outputs": [],
   "source": [
    "for f in files:\n",
    "    img = Image.open(f)\n",
    "    img_resize = img.resize((int(img.width / 2), int(img.height / 2)))\n",
    "    title, ext = os.path.splitext(f)\n",
    "    img_resize.save(title + '_half' + ext)"
   ]
  },
  {
   "cell_type": "code",
   "execution_count": 2,
   "metadata": {},
   "outputs": [],
   "source": [
    "fontsFolder = '/Library/Fonts'\n",
    "selectedFont = ImageFont.truetype(os.path.join(fontsFolder, 'Lato-LightItalic.ttf'), 30)"
   ]
  },
  {
   "cell_type": "code",
   "execution_count": null,
   "metadata": {},
   "outputs": [],
   "source": []
  }
 ],
 "metadata": {
  "kernelspec": {
   "display_name": "pydatavenv",
   "language": "python",
   "name": "pydatavenv"
  },
  "language_info": {
   "codemirror_mode": {
    "name": "ipython",
    "version": 3
   },
   "file_extension": ".py",
   "mimetype": "text/x-python",
   "name": "python",
   "nbconvert_exporter": "python",
   "pygments_lexer": "ipython3",
   "version": "3.7.9"
  }
 },
 "nbformat": 4,
 "nbformat_minor": 4
}
